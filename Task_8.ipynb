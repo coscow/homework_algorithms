{
 "cells": [
  {
   "cell_type": "code",
   "execution_count": 1,
   "id": "7e9e9040",
   "metadata": {},
   "outputs": [],
   "source": [
    "import pprint\n",
    "import numpy as np\n",
    "from numpy import linalg as LA\n",
    "def pivot_matrix(M):\n",
    "    \n",
    "    m = len(M)\n",
    "\n",
    "                                                                                                                                                                        \n",
    "    id_mat = [[float(i ==j) for i in range(m)] for j in range(m)]\n",
    "\n",
    "                                                                                                                                                                                         \n",
    "    for j in range(m):\n",
    "        row = max(range(j, m), key=lambda i: abs(M[i][j]))\n",
    "        if j != row:\n",
    "                                                                                                                                                                                                                   \n",
    "            id_mat[j], id_mat[row] = id_mat[row], id_mat[j]\n",
    "\n",
    "    return id_mat\n",
    "\n",
    "def lu_decomposition(A):\n",
    "  \n",
    "    n = len(A)\n",
    "\n",
    "                                                                                                                                                                                                         \n",
    "    L = [[0.0] * n for i in range(n)]\n",
    "    U = [[0.0] * n for i in range(n)]\n",
    " \n",
    "\n",
    "                                                                                                                                                                                 \n",
    "    P = pivot_matrix(A)\n",
    "    PA = np.dot(P, A)\n",
    "\n",
    "                                                                                                                                                                                                          \n",
    "    for j in range(n):\n",
    "                                                                                                                                                                                                        \n",
    "        L[j][j] = 1.0\n",
    "\n",
    "                                                                                                                                                                                           \n",
    "        for i in range(j+1):\n",
    "            s1 = sum(U[k][j] * L[i][k] for k in range(i))\n",
    "            U[i][j] = PA[i][j] - s1\n",
    "\n",
    "        \n",
    "        for i in range(j, n):\n",
    "            s2 = sum(U[k][j] * L[i][k] for k in range(j))\n",
    "           \n",
    "            L[i][j] = (PA[i][j] - s2) / U[j][j]\n",
    "\n",
    "    return (P, L, U)\n",
    "\n",
    "\n",
    "\n"
   ]
  },
  {
   "cell_type": "code",
   "execution_count": null,
   "id": "775d53fa",
   "metadata": {},
   "outputs": [],
   "source": []
  },
  {
   "cell_type": "code",
   "execution_count": null,
   "id": "0902c976",
   "metadata": {},
   "outputs": [],
   "source": []
  },
  {
   "cell_type": "code",
   "execution_count": 53,
   "id": "8a5e733b",
   "metadata": {},
   "outputs": [],
   "source": [
    "m=1\n",
    "i=4\n",
    "time_LUP=[]\n",
    "j = np.arange(0, 5, 1)\n",
    "from time import perf_counter\n",
    "while i < 5: \n",
    "    C = []\n",
    "    sum_1=0\n",
    "    A = np.random.randint(1, 10, (i, i))\n",
    "    C = [list(A[0])]\n",
    "    m = 1\n",
    "    while m < len(A):\n",
    "        \n",
    "        C = C + [list(A[m])]\n",
    "        m += 1\n",
    "    for _ in j:\n",
    "        t0 = 0\n",
    "        t1 = 0\n",
    "        t0 = perf_counter()\n",
    "        G= lu_decomposition(C)\n",
    "        t1 = perf_counter()\n",
    "        sum_1 = sum_1 + (t1 - t0)\n",
    "    time_LUP.append(sum_1/5)\n",
    "\n",
    "    i += 1\n",
    "    "
   ]
  },
  {
   "cell_type": "code",
   "execution_count": 67,
   "id": "386405ac",
   "metadata": {},
   "outputs": [],
   "source": [
    "from numpy import linalg as LA"
   ]
  },
  {
   "cell_type": "code",
   "execution_count": 68,
   "id": "68c506cb",
   "metadata": {},
   "outputs": [
    {
     "data": {
      "text/plain": [
       "array([[8, 8, 8, 8],\n",
       "       [3, 1, 7, 4],\n",
       "       [6, 7, 6, 8],\n",
       "       [6, 2, 1, 2]])"
      ]
     },
     "execution_count": 68,
     "metadata": {},
     "output_type": "execute_result"
    }
   ],
   "source": [
    "A"
   ]
  },
  {
   "cell_type": "code",
   "execution_count": 69,
   "id": "65fbebc1",
   "metadata": {},
   "outputs": [],
   "source": [
    "P, L, U=lu_decomposition(A)"
   ]
  },
  {
   "cell_type": "code",
   "execution_count": 70,
   "id": "03ce5d53",
   "metadata": {},
   "outputs": [],
   "source": [
    "P_inv = LA.inv(P)"
   ]
  },
  {
   "cell_type": "code",
   "execution_count": 78,
   "id": "99e17e58",
   "metadata": {},
   "outputs": [
    {
     "data": {
      "text/plain": [
       "array([[1., 0., 0., 0.],\n",
       "       [0., 0., 1., 0.],\n",
       "       [0., 1., 0., 0.],\n",
       "       [0., 0., 0., 1.]])"
      ]
     },
     "execution_count": 78,
     "metadata": {},
     "output_type": "execute_result"
    }
   ],
   "source": [
    "P_inv"
   ]
  },
  {
   "cell_type": "code",
   "execution_count": 76,
   "id": "a85eaf00",
   "metadata": {},
   "outputs": [
    {
     "data": {
      "text/plain": [
       "[[1.0, 0.0, 0.0, 0.0],\n",
       " [0.75, 1.0, 0.0, 0.0],\n",
       " [0.375, -2.0, 1.0, 0.0],\n",
       " [0.75, -4.0, -1.25, 1.0]]"
      ]
     },
     "execution_count": 76,
     "metadata": {},
     "output_type": "execute_result"
    }
   ],
   "source": [
    "L"
   ]
  },
  {
   "cell_type": "code",
   "execution_count": 72,
   "id": "78eb8088",
   "metadata": {},
   "outputs": [
    {
     "data": {
      "text/plain": [
       "[[8.0, 8.0, 8.0, 8.0],\n",
       " [0.0, 1.0, 0.0, 2.0],\n",
       " [0.0, 0.0, 4.0, 5.0],\n",
       " [0.0, 0.0, 0.0, 10.25]]"
      ]
     },
     "execution_count": 72,
     "metadata": {},
     "output_type": "execute_result"
    }
   ],
   "source": [
    "U"
   ]
  },
  {
   "cell_type": "code",
   "execution_count": 77,
   "id": "13b55f50",
   "metadata": {},
   "outputs": [
    {
     "data": {
      "text/plain": [
       "[[1.0, 0.0, 0.0, 0.0],\n",
       " [0.0, 0.0, 1.0, 0.0],\n",
       " [0.0, 1.0, 0.0, 0.0],\n",
       " [0.0, 0.0, 0.0, 1.0]]"
      ]
     },
     "execution_count": 77,
     "metadata": {},
     "output_type": "execute_result"
    }
   ],
   "source": [
    "P"
   ]
  },
  {
   "cell_type": "code",
   "execution_count": 74,
   "id": "b70f9cad",
   "metadata": {},
   "outputs": [],
   "source": [
    "LU = np.dot(L, U)"
   ]
  },
  {
   "cell_type": "code",
   "execution_count": 79,
   "id": "24709f08",
   "metadata": {},
   "outputs": [
    {
     "data": {
      "text/plain": [
       "array([[8., 8., 8., 8.],\n",
       "       [6., 7., 6., 8.],\n",
       "       [3., 1., 7., 4.],\n",
       "       [6., 2., 1., 2.]])"
      ]
     },
     "execution_count": 79,
     "metadata": {},
     "output_type": "execute_result"
    }
   ],
   "source": [
    "LU"
   ]
  },
  {
   "cell_type": "code",
   "execution_count": 75,
   "id": "269b2fab",
   "metadata": {},
   "outputs": [
    {
     "data": {
      "text/plain": [
       "array([[8., 8., 8., 8.],\n",
       "       [3., 1., 7., 4.],\n",
       "       [6., 7., 6., 8.],\n",
       "       [6., 2., 1., 2.]])"
      ]
     },
     "execution_count": 75,
     "metadata": {},
     "output_type": "execute_result"
    }
   ],
   "source": [
    "np.dot(P_inv, LU)"
   ]
  },
  {
   "cell_type": "code",
   "execution_count": 18,
   "id": "b52c0635",
   "metadata": {},
   "outputs": [],
   "source": [
    "t_1 = lambda x: pow(x, 3)*pow(10, -6)*0.14\n",
    "x = np.arange(4, 500, 1)\n",
    "import matplotlib.pyplot as plt"
   ]
  },
  {
   "cell_type": "code",
   "execution_count": 19,
   "id": "d3f4ac7f",
   "metadata": {},
   "outputs": [
    {
     "data": {
      "image/png": "[encoded data removed]",
      "text/plain": [
       "<Figure size 360x216 with 1 Axes>"
      ]
     },
     "metadata": {
      "needs_background": "light"
     },
     "output_type": "display_data"
    }
   ],
   "source": [
    "fig, ax = plt.subplots(figsize=(5, 3))"
   ]
  },
  {
   "cell_type": "code",
   "execution_count": 21,
   "id": "057b72d0",
   "metadata": {},
   "outputs": [
    {
     "data": {
      "text/plain": [
       "<matplotlib.legend.Legend at 0x1c4505fc340>"
      ]
     },
     "execution_count": 21,
     "metadata": {},
     "output_type": "execute_result"
    },
    {
     "data": {
      "image/png": "[encoded data removed]",
      "text/plain": [
       "<Figure size 432x288 with 1 Axes>"
      ]
     },
     "metadata": {
      "needs_background": "light"
     },
     "output_type": "display_data"
    }
   ],
   "source": [
    "plt.plot(x,time_LUP)\n",
    "plt.plot(x, t_1(x), 'r-')\n",
    "plt.xlabel('The coordinate of n')\n",
    "plt.ylabel('The coordinate of time(sec)')\n",
    "plt.legend([\"experimental data\", \"O(n^3)\"], loc =\"upper left\")"
   ]
  },
  {
   "cell_type": "code",
   "execution_count": 281,
   "id": "fbd5412c",
   "metadata": {},
   "outputs": [
    {
     "name": "stdout",
     "output_type": "stream",
     "text": [
      "Введите строку для сжатия: Сложность картины электрической активности нейронных ансамблей обусловлена взаимодействием их элементов. Разветвления аксона заканчиваются в непосредственной близости от поверхности тел или дендритов других нейронов. Спайк генерируется в центральной части нейрона — в теле. Рожденный нейроном спайк, распространяясь по аксону и его разветвлениям, достигает синапсов. В бутоне — пресинаптической части — под действием пришедшего нервного импульса генерируется выброс заключенных в пузырьки белков — медиаторов. Они оказывают возбуждающее или тормозное воздействие на часть мембраны, называемую постсинаптической. В зависимости от типа выделяемого медиатора синапсы делятся на возбудительные и тормозные. В синапсах количество медиатора, вырабатываемого в ответ на раздражение, быстро нарастает, относительно стабилизируется, а после окончания импульса медиатор распадается. Возбудительное воздействие может вызвать у постсинаптического нейрона спайк или приблизить момент начала спайка. Считается, что в течение спайка медиатор практически не оказывает влияния на динамику мембранного потенциала постсинаптического нейрона. После спайка в течение некоторого времени восприимчивость нейрона понижена, поэтому будем считать, что на этом участке медиатор не оказывает влияния на эволюцию мембранного потенциала. Таким образом, спайк и некоторый следующий за ним участок времени представляют собой зону невосприимчивости к медиаторному воздействию. Этот промежуток времени называется рефрактерным периодом.\n",
      "Шифр: {'о': '000', 'к': '00100', 'л': '00101', 'с': '0011', 'б': '010000', 'я': '010001', 'п': '01001', 'ю': '0101000', ',': '0101001', 'ы': '010101', 'м': '01011', ' ': '011', 'н': '1000', 'т': '1001', 'у': '101000', 'ч': '101001', 'О': '1010100000', 'Т': '10101000010', 'П': '10101000011', 'С': '101010001', 'х': '10101001', '.': '1010101', 'г': '1010110', 'ь': '1010111', 'и': '1011', 'а': '1100', 'з': '110100', 'й': '110101', 'в': '11011', 'е': '1110', 'р': '11110', 'ж': '11111000', 'В': '111110010', '—': '111110011', 'ш': '1111101000', 'Р': '1111101001', 'ф': '11111010100', 'Э': '11111010101', 'щ': '1111101011', 'ц': '111110110', 'э': '111110111', 'д': '111111'}\n",
      "Сжатая строка:  101010001001010001111100010000000011100110101110110010011001111010011011100001010101111111011100101111000100100111110101110100111100011001000001101010111100001001001101111011100000000111001101101110001110110101111100001000100001010110101001011110010000011110001011010000001011110110101011000010000101000001100101000110110010111101000110001111011110100110010110101100011111111101101010011100111011101111100101101110111010100101111111011100101111001011111010001001000110111010101011111110100111001101001101111101001110110010111101000101101000101111000010000110001000110001111010011000010011001000101001101111011110001010001001001101000101111011011100011100100100000111111011101111110011100111011111010001000000110101011010000001011011110100000001110011011011000100101101001000110111110111101010100110000000011100110110111001111000101011101100101101101111111111101000111111111101011100100011011011111111111101010001010110101110101001011100011101101011111000010000001101110101010111010100010100111001101010010001110101101110100011101111010111111010100011101001001101000101111011011111110110111010001001111101100001011010111100000011010101110100111000011100110110111000111011010111110000100011000111111100110111101101110011110001011110101010101111111010010001111100011111111101000100001010111010101110001110110101111100001000000010110110011010011100110101001000101001011111101100001101001111100000011100111110110010000100010100010011101011101101001000011110000100001100010001010000111011011111010101100000111111011001101001101111101001110110010111101000101101000101011010100101111111100000111001101110101101100111010010110011101110001100010010011000110111010101011111110010011010000101000100100010001110011111110011011010011111011100011101110001100010011001101110100111100011001000001101010111010011100001110011011011111110011011010010001111110111111111110110101001110011101110111110010110110100111110101111111010001110111111111110100011101010110000011100011101111011011100000010101100000111011010110100110100000101101011100111100011101011011101000111011110101111110101000111010010011010001011110110101010100001111000000110111101001100001000010101010001010011110100010000101011010100101111011011010011010001101000101011111010101110010010110110100001110001010010000011011011111110011011010111110111111101111001001000111100001101110101010111010100000100010110110000010011001101000101011101111000101000100101111011000110100010000101000111110001111111100010100011111010111110111001110110010110110111001000111100101100011010010000001110011110110001101001111111110110101001110011101110111110011100011000111010011100001110011010111011010111110010110100001111011001000010101010100101110001100110100010101110111100111001011101000010100001101001000001110010011101110001100010011001101110100111100011001000001101011010101011111110010011110100110011011101100111011010110000011100110110110001001011100110110100111000111101101010111111111100010101000111100101100010101100000110101111101111111011110010010001111011000110011101110001100010010011010101011111111111000101010001100100110100010111000110001111011000110100010000101000111111101110011110001011010111100001010111100111011011100100011110010110001101001000010101111010101010111111100100110011101110001100010010011110010101001011001000000010110111010011110001110011101100001101011111011111110111100100100011110110001010010111101101010111110110001000011001001010101110111100111001011000101011000001111011011000100111011111010010111000110001111110110011010011111111110110011111000111010001011111001010010110100000101010011100111110000011100011001111011000011100111001110100101010010110001001100000000111011100111100010110101111000000011001110011100010000101100101101111010010111111010100011101001001101000101010010111100011010010000011001011110011000001000001000101001110010001011010001011101101011010011010000010110101110011110001101011111011111110111100100100011110011111101100001101001110011111111001110100100110100011010101011111110010000110100010000101000111111101110011110001011010111100000011100111101100011010011111111101101010011100111011101111100110101100011111000111010010111101101010111010011011110010011010111011101000011010010000011100100111011100011000100110011011101001111000110010000010101100000111000111011010111110000100011000110011010011100110101001000111011001011011011010011111010110100000010110111101001011100110101110110101100001011111010001001011100011001010011100001011100011001101001110011010100100110010101010111010100011010011011100111001110100100110100010101001011101001100100001111011011100111101010011110100010111110011001101001110011010100100110001101011111011111110111100100100011110011010011111011000010010011011101001111000110010010110111000111001100000100110011010001010111011110011101001011110110010110110100011000101101000101110001100011111111101110001100010111011001001010000110101111100101101000011110110010001000000101011000001101001000100111101000111110110101111000010111000110100100000111001001110111000110001001100110111010011110001100100000101011000001110001110110101111100001000110010101010111010100001100000110010111100110011010011100110101001001100011110110111001111010100111101000101111100111000111000100000100100011110000101011000001111011111101110010111110100010110111101100000110100111110101110110101110100110111101100000111001101011101110001110110101111100001000110001101001000100010111111100011101000110001010010110100100011111011110010000101110100001101000010100011111111100101101100111010011011100111001001101011101010010111010011001000011100011000111111101111001000010110111010001010011100001110010010011100110101111101111111011110010010001111001110001110011000001001100110100010101110111100111010010111101100101101101000110001011010001011100011000111111101111101100000101010100011111011010110101000011010111110010110100001111011001000100000010101100000110100100010011110100011111011010111100001011100101010101110101000010110000100101101011011000010000111101100110100000010110101001011001101001110011010100100011101101110001110001000001001000111100101011101010110011001011110111111101000010100011111010111011110101011110100110001110001011010110111010001010011100001110010000010001111011111101110010111110100010110110100111110111011111100111001110011011001010100010101000100101100110000100000001101010111101000001000101000011100011101101100000110100111110101110110101110100110111101100000111001101101100100011010111110111111101111001001000111101000000010111010000111101100011010011111111101101010011100111011101101010001010101011111110101011001000100101101001111100000101111101111100010100010010000010001111011111101110010111110100010110111000110011010001010111011110011101001001101000101111110111011111010100111101100001001001111011110100001010101011011010011110111101011000111111000010111010101\n"
     ]
    },
    {
     "name": "stdout",
     "output_type": "stream",
     "text": [
      "Исходная строка:  Сложность картины электрической активности нейронных ансамблей обусловлена взаимодействием их элементов. Разветвления аксона заканчиваются в непосредственной близости от поверхности тел или дендритов других нейронов. Спайк генерируется в центральной части нейрона — в теле. Рожденный нейроном спайк, распространяясь по аксону и его разветвлениям, достигает синапсов. В бутоне — пресинаптической части — под действием пришедшего нервного импульса генерируется выброс заключенных в пузырьки белков — медиаторов. Они оказывают возбуждающее или тормозное воздействие на часть мембраны, называемую постсинаптической. В зависимости от типа выделяемого медиатора синапсы делятся на возбудительные и тормозные. В синапсах количество медиатора, вырабатываемого в ответ на раздражение, быстро нарастает, относительно стабилизируется, а после окончания импульса медиатор распадается. Возбудительное воздействие может вызвать у постсинаптического нейрона спайк или приблизить момент начала спайка. Считается, что в течение спайка медиатор практически не оказывает влияния на динамику мембранного потенциала постсинаптического нейрона. После спайка в течение некоторого времени восприимчивость нейрона понижена, поэтому будем считать, что на этом участке медиатор не оказывает влияния на эволюцию мембранного потенциала. Таким образом, спайк и некоторый следующий за ним участок времени представляют собой зону невосприимчивости к медиаторному воздействию. Этот промежуток времени называется рефрактерным периодом.\n",
      "Успешно!\n"
     ]
    }
   ],
   "source": [
    "# Закодируйте любую строку по алгоритму Хаффмана.\n",
    "from collections import Counter\n",
    "\n",
    "\n",
    "class Node:\n",
    "\n",
    "    def __init__(self, value, left=None, right=None):\n",
    "        self.right = right\n",
    "        self.left = left\n",
    "        self.value = value\n",
    "\n",
    "\n",
    "def get_code(root, codes=dict(), code=''):\n",
    "\n",
    "    if root is None:\n",
    "        return\n",
    "\n",
    "    if isinstance(root.value, str):\n",
    "        codes[root.value] = code\n",
    "        return codes\n",
    "\n",
    "    get_code(root.left, codes, code + '0')\n",
    "    get_code(root.right, codes, code + '1')\n",
    "\n",
    "    return codes\n",
    "\n",
    "\n",
    "def get_tree(string):\n",
    "    string_count = Counter(string)\n",
    "\n",
    "    if len(string_count) <= 1:\n",
    "        node = Node(None)\n",
    "\n",
    "        if len(string_count) == 1:\n",
    "            node.left = Node([key for key in string_count][0])\n",
    "            node.right = Node(None)\n",
    "\n",
    "        string_count = {node: 1}\n",
    "\n",
    "    while len(string_count) != 1:\n",
    "        node = Node(None)\n",
    "        spam = string_count.most_common()[:-3:-1]\n",
    "\n",
    "        if isinstance(spam[0][0], str):\n",
    "            node.left = Node(spam[0][0])\n",
    "\n",
    "        else:\n",
    "            node.left = spam[0][0]\n",
    "\n",
    "        if isinstance(spam[1][0], str):\n",
    "            node.right = Node(spam[1][0])\n",
    "\n",
    "        else:\n",
    "            node.right = spam[1][0]\n",
    "\n",
    "        del string_count[spam[0][0]]\n",
    "        del string_count[spam[1][0]]\n",
    "        string_count[node] = spam[0][1] + spam[1][1]\n",
    "\n",
    "    return [key for key in string_count][0]\n",
    "\n",
    "\n",
    "def coding(string, codes):\n",
    "    res = ''\n",
    "\n",
    "    for symbol in string:\n",
    "        res += codes[symbol]\n",
    "\n",
    "    return res\n",
    "\n",
    "\n",
    "def decoding(string, codes):\n",
    "    res = ''\n",
    "    i = 0\n",
    "\n",
    "    while i < len(string):\n",
    "\n",
    "        for code in codes:\n",
    "\n",
    "            if string[i:].find(codes[code]) == 0:\n",
    "                res += code\n",
    "                i += len(codes[code])\n",
    "\n",
    "    return res\n",
    "\n",
    "\n",
    "my_string = input('Введите строку для сжатия: ')\n",
    "#my_string = '321'\n",
    "#my_string = my_string[0]\n",
    "tree = get_tree(my_string)\n",
    "\n",
    "codes = get_code(tree)\n",
    "print(f'Шифр: {codes}')\n",
    "\n",
    "coding_str = coding(my_string, codes)\n",
    "print('Сжатая строка: ', coding_str)\n",
    "\n",
    "decoding_str = decoding(coding_str, codes)\n",
    "print('Исходная строка: ', decoding_str)\n",
    "\n",
    "if my_string == decoding_str:\n",
    "    print('Успешно!')\n",
    "else:\n",
    "    print('Ошибка!')"
   ]
  },
  {
   "cell_type": "code",
   "execution_count": null,
   "id": "78008598",
   "metadata": {},
   "outputs": [],
   "source": [
    "while i < 5: \n",
    "    C = []\n",
    "    sum_1=0\n",
    "    A = np.random.randint(1, 10, (i, i))\n",
    "    C = [list(A[0])]\n",
    "    m = 1\n",
    "    while m < len(A):\n",
    "        \n",
    "        C = C + [list(A[m])]\n",
    "        m += 1\n",
    "    for _ in j:\n",
    "        t0 = 0\n",
    "        t1 = 0\n",
    "        t0 = perf_counter()\n",
    "        G= lu_decomposition(C)\n",
    "        t1 = perf_counter()\n",
    "        sum_1 = sum_1 + (t1 - t0)\n",
    "    time_LUP.append(sum_1/5)\n",
    "\n",
    "    i += 1"
   ]
  },
  {
   "cell_type": "code",
   "execution_count": 411,
   "id": "9c167cf2",
   "metadata": {},
   "outputs": [],
   "source": [
    "time = []\n",
    "sum_1 = 0\n",
    "for i in range(len(my_string)):\n",
    "    sum_1=0\n",
    "    for _ in j:\n",
    "        t0 = 0\n",
    "        t1 = 0\n",
    "        t0 = perf_counter()\n",
    "        tree = get_tree(my_string[i])\n",
    "        codes = get_code(tree)\n",
    "        coding_str = coding(my_string[i], codes)\n",
    "    \n",
    "        t1 = perf_counter()\n",
    "        sum_1 = sum_1 + (t1 - t0)\n",
    "        \n",
    "    \n",
    "    time.append(sum_1/5)"
   ]
  },
  {
   "cell_type": "code",
   "execution_count": 422,
   "id": "9a9e632c",
   "metadata": {},
   "outputs": [],
   "source": [
    "t = lambda x: pow(x, 1)*np.log(x)*pow(10, -8)*0.02 +0.000007\n",
    "x = np.arange(10, len(my_string), 1)"
   ]
  },
  {
   "cell_type": "code",
   "execution_count": 424,
   "id": "6824b709",
   "metadata": {},
   "outputs": [
    {
     "data": {
      "text/plain": [
       "<matplotlib.legend.Legend at 0x1c45beb0af0>"
      ]
     },
     "execution_count": 424,
     "metadata": {},
     "output_type": "execute_result"
    },
    {
     "data": {
      "image/png": "[encoded data removed]",
      "text/plain": [
       "<Figure size 432x288 with 1 Axes>"
      ]
     },
     "metadata": {
      "needs_background": "light"
     },
     "output_type": "display_data"
    }
   ],
   "source": [
    "plt.plot(range(len(my_string)),time)\n",
    "plt.plot(x, t(x), 'r-')\n",
    "plt.xlabel('The coordinate of n')\n",
    "plt.ylabel('The coordinate of time(sec)')\n",
    "plt.legend([\"experimental data\", \"O(nlog(n))\"], loc =\"upper left\")"
   ]
  },
  {
   "cell_type": "code",
   "execution_count": 421,
   "id": "bb5f8f52",
   "metadata": {},
   "outputs": [
    {
     "data": {
      "text/plain": [
       "1501"
      ]
     },
     "execution_count": 421,
     "metadata": {},
     "output_type": "execute_result"
    }
   ],
   "source": [
    "len(my_string)"
   ]
  },
  {
   "cell_type": "code",
   "execution_count": 95,
   "id": "ae93c9a6",
   "metadata": {},
   "outputs": [
    {
     "data": {
      "text/plain": [
       "2.302585092994046"
      ]
     },
     "execution_count": 95,
     "metadata": {},
     "output_type": "execute_result"
    }
   ],
   "source": [
    "np.log(10)"
   ]
  },
  {
   "cell_type": "code",
   "execution_count": null,
   "id": "72a38899",
   "metadata": {},
   "outputs": [],
   "source": []
  }
 ],
 "metadata": {
  "kernelspec": {
   "display_name": "Python 3 (ipykernel)",
   "language": "python",
   "name": "python3"
  },
  "language_info": {
   "codemirror_mode": {
    "name": "ipython",
    "version": 3
   },
   "file_extension": ".py",
   "mimetype": "text/x-python",
   "name": "python",
   "nbconvert_exporter": "python",
   "pygments_lexer": "ipython3",
   "version": "3.8.12"
  }
 },
 "nbformat": 4,
 "nbformat_minor": 5
}
