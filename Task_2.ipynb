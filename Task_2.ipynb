{
 "cells": [
  {
   "cell_type": "code",
   "execution_count": 1,
   "id": "2761299a",
   "metadata": {},
   "outputs": [],
   "source": [
    "import math \n",
    "import numpy as np\n",
    "from sympy import diff, symbols, sin, solve\n",
    "import matplotlib.pyplot as plt\n",
    "import random\n",
    "import statistics"
   ]
  },
  {
   "cell_type": "markdown",
   "id": "200a3db9",
   "metadata": {},
   "source": [
    "I"
   ]
  },
  {
   "cell_type": "markdown",
   "id": "8c779a11",
   "metadata": {},
   "source": [
    "DEFINE FUNCTIONS"
   ]
  },
  {
   "cell_type": "code",
   "execution_count": 2,
   "id": "09b0cad6",
   "metadata": {},
   "outputs": [],
   "source": [
    "def f_1(x):\n",
    "    return pow(x, 3)\n",
    "\n",
    "def f_2(x):\n",
    "    return math.fabs(x - 0.2)\n",
    "\n",
    "def f_3(x):\n",
    "    return x*math.sin(1/x)\n",
    "\n",
    "def n(b, a, e):\n",
    "    return (b -a)/e"
   ]
  },
  {
   "cell_type": "markdown",
   "id": "b4f8151a",
   "metadata": {},
   "source": [
    "numerically calculate the functions at the points"
   ]
  },
  {
   "cell_type": "code",
   "execution_count": 3,
   "id": "583b53b4",
   "metadata": {},
   "outputs": [
    {
     "name": "stdout",
     "output_type": "stream",
     "text": [
      "Количество вычислений функции x^3, полученное методом перебора: 1001\n",
      "Количество вычислений функции |x - 0.2|, полученное методом перебора: 1001\n",
      "Количество вычислений функции x*sin(1/x), полученное методом перебора: 991\n"
     ]
    }
   ],
   "source": [
    "a = 0\n",
    "a_1 = 0.01\n",
    "b = 1\n",
    "e = 0.001\n",
    "k = 0\n",
    "\n",
    "\n",
    "\n",
    "x_1 = []\n",
    "x_2 = []\n",
    "function_1 = []\n",
    "function_2 = []\n",
    "function_3 = []\n",
    "\n",
    "while k <= n(b, a, e):\n",
    "    \n",
    "    x_1.append(a + k*(b - a)/n(b, a, e)) \n",
    "    function_1.append(f_1(x_1[k]))\n",
    "    function_2.append(f_2(x_1[k]))\n",
    "    k += 1    \n",
    "\n",
    "print('Количество вычислений функции x^3, полученное методом перебора:', k)\n",
    "print('Количество вычислений функции |x - 0.2|, полученное методом перебора:', k)\n",
    "\n",
    "k = 0\n",
    "\n",
    "while k <= n(b, a_1, e):\n",
    "    \n",
    "    x_2.append(a_1 + k*(b - a_1)/n(b, a_1, e))\n",
    "    function_3.append(f_3(x_2[k]))\n",
    "    k += 1\n",
    "    \n",
    "print('Количество вычислений функции x*sin(1/x), полученное методом перебора:', k)"
   ]
  },
  {
   "cell_type": "markdown",
   "id": "9aa0f0dc",
   "metadata": {},
   "source": [
    "brute force method for finding the minimum of a function"
   ]
  },
  {
   "cell_type": "code",
   "execution_count": 4,
   "id": "bce1b8ca",
   "metadata": {},
   "outputs": [
    {
     "name": "stdout",
     "output_type": "stream",
     "text": [
      "Количество итераций функции x^3, полученное методом перебора: 1001\n",
      "Количество итераций функции |x - 0.2|, полученное методом перебора: 1001\n",
      "Количество итераций функции x*sin(1/x), полученное методом перебора: 991\n"
     ]
    }
   ],
   "source": [
    "k = 0\n",
    "min_1 = function_1[0]\n",
    "min_2 = function_2[0]\n",
    "min_3 = function_3[0]\n",
    "\n",
    "while k <= n(b, a, e):\n",
    "    \n",
    "    if min_1 > function_1[k]:\n",
    "        min_1 = function_1[k]\n",
    "        \n",
    "    if min_2 > function_2[k]:\n",
    "        min_2 = function_2[k]   \n",
    "        \n",
    "    k += 1\n",
    "    \n",
    "print('Количество итераций функции x^3, полученное методом перебора:', k)\n",
    "print('Количество итераций функции |x - 0.2|, полученное методом перебора:', k)\n",
    "\n",
    "k = 0\n",
    "\n",
    "while k <= n(b, a_1, e):\n",
    "    \n",
    "    if min_3 > function_3[k]:\n",
    "        min_3 = function_3[k]  \n",
    "        \n",
    "    k += 1\n",
    "print('Количество итераций функции x*sin(1/x), полученное методом перебора:', k)"
   ]
  },
  {
   "cell_type": "code",
   "execution_count": 5,
   "id": "8721ae86",
   "metadata": {},
   "outputs": [
    {
     "name": "stdout",
     "output_type": "stream",
     "text": [
      "Минимальное значение функции x^3, полученное методом перебора: 0.0 соответсвующая координата: 0.0\n",
      "Минимальное значение функции |x - 0.2| на заданном интервале, полученное методом перебора: 0.0 соответсвующая координата: 0.2\n",
      "Минимальное значение функции x*sin(1/x) на заданном интервале, полученное методом перебора: -0.21722461258083445 соответсвующая координата: 0.223\n"
     ]
    }
   ],
   "source": [
    "x_1_min = x_1[function_1.index(min_1)]\n",
    "x_2_min = x_1[function_2.index(min_2)]\n",
    "x_3_min = x_2[function_3.index(min_3)]\n",
    "print('Минимальное значение функции x^3, полученное методом перебора:', f_1(x_1_min), 'соответсвующая координата:', x_1_min)\n",
    "print('Минимальное значение функции |x - 0.2| на заданном интервале, полученное методом перебора:', f_2(x_2_min), 'соответсвующая координата:', x_2_min)\n",
    "print('Минимальное значение функции x*sin(1/x) на заданном интервале, полученное методом перебора:', f_3(x_3_min), 'соответсвующая координата:', x_3_min)"
   ]
  },
  {
   "cell_type": "code",
   "execution_count": 6,
   "id": "ace4b181",
   "metadata": {},
   "outputs": [
    {
     "data": {
      "text/latex": [
       "$\\displaystyle \\sin{\\left(\\frac{1}{x} \\right)} - \\frac{\\cos{\\left(\\frac{1}{x} \\right)}}{x}$"
      ],
      "text/plain": [
       "sin(1/x) - cos(1/x)/x"
      ]
     },
     "execution_count": 6,
     "metadata": {},
     "output_type": "execute_result"
    }
   ],
   "source": [
    "x = symbols('x')\n",
    "expr = diff(x*sin(1/x))\n",
    "expr"
   ]
  },
  {
   "cell_type": "code",
   "execution_count": 7,
   "id": "fca9d16b",
   "metadata": {},
   "outputs": [
    {
     "data": {
      "image/png": "[encoded data removed]",
      "text/plain": [
       "<Figure size 432x288 with 1 Axes>"
      ]
     },
     "metadata": {
      "needs_background": "light"
     },
     "output_type": "display_data"
    }
   ],
   "source": [
    "x = np.linspace(0.01, 1, 10000)\n",
    "fig = plt.subplots()\n",
    "\n",
    "t_2 = lambda x:  x*np.sin(1/x)\n",
    "plt.plot(x, t_2(x))\n",
    "plt.show()"
   ]
  },
  {
   "cell_type": "markdown",
   "id": "dd165c0c",
   "metadata": {},
   "source": [
    "dichotomy method"
   ]
  },
  {
   "cell_type": "code",
   "execution_count": 8,
   "id": "9b77600d",
   "metadata": {},
   "outputs": [
    {
     "name": "stdout",
     "output_type": "stream",
     "text": [
      "Количество вычислений функции x^3, полученное методом дихотомии: 22\n",
      "Количество итераций x^3, полученное методом дихотомии: 11\n",
      "Минимальное значение функции x^3, полученное методом дихотомии: 3.162596184997541e-10 соответсвующая координата: 0.0006813149429880284\n",
      "Количество вычислений функции |x - 0.2|, полученное методом дихотомии: 22\n",
      "Количество итераций |x - 0.2|, полученное методом дихотомии: 11\n",
      "Минимальное значение функции |x - 0.2|, полученное методом дихотомии: 0.0001769221017227096 соответсвующая координата: 0.1998230778982773\n",
      "Количество вычислений функции x*sin(1/x), полученное методом дихотомии: 22\n",
      "Количество итераций x*sin(1/x), полученное методом дихотомии: 11\n",
      "Минимальное значение функции x*sin(1/x), полученное методом дихотомии: -0.21723136637389337 соответсвующая координата: 0.2223222998986662\n"
     ]
    }
   ],
   "source": [
    "delta = random.uniform(0, 0.001)\n",
    "a = 0\n",
    "b = 1\n",
    "k = 0\n",
    "F_1 = []\n",
    "while (math.fabs(b - a)) >= e:\n",
    "    x_1 = (a + b - delta)/2\n",
    "    x_2 = (a + b + delta)/2\n",
    "    \n",
    "    if f_1(x_1) <= f_1(x_2):\n",
    "        a = a\n",
    "        b = x_2\n",
    "    else:\n",
    "        a = x_1\n",
    "        b = b\n",
    "    k += 1\n",
    "print('Количество вычислений функции x^3, полученное методом дихотомии:',k*2)\n",
    "print('Количество итераций x^3, полученное методом дихотомии:', k)\n",
    "print('Минимальное значение функции x^3, полученное методом дихотомии:',f_1((x_1 + x_2)/2), 'соответсвующая координата:', (x_1 + x_2)/2)\n",
    "a = 0\n",
    "b = 1\n",
    "k = 0\n",
    "while (math.fabs(b - a)) >= e:\n",
    "    x_1 = (a + b - delta)/2\n",
    "    x_2 = (a + b + delta)/2\n",
    "    if f_2(x_1) <= f_2(x_2):\n",
    "        a = a\n",
    "        b = x_2\n",
    "    else:\n",
    "        a = x_1\n",
    "        b = b\n",
    "    k += 1\n",
    "print('Количество вычислений функции |x - 0.2|, полученное методом дихотомии:',k*2)\n",
    "print('Количество итераций |x - 0.2|, полученное методом дихотомии:', k)\n",
    "print('Минимальное значение функции |x - 0.2|, полученное методом дихотомии:',f_2((x_1 + x_2)/2), 'соответсвующая координата:', (x_1 + x_2)/2)\n",
    "a = 0.01\n",
    "b = 1\n",
    "k = 0\n",
    "while (math.fabs(b - a)) >= e:\n",
    "    x_1 = (a + b - delta)/2\n",
    "    x_2 = (a + b + delta)/2\n",
    "    if f_3(x_1) <= f_3(x_2):\n",
    "        a = a\n",
    "        b = x_2\n",
    "    else:\n",
    "        a = x_1\n",
    "        b = b\n",
    "    k += 1\n",
    "print('Количество вычислений функции x*sin(1/x), полученное методом дихотомии:',k*2)\n",
    "print('Количество итераций x*sin(1/x), полученное методом дихотомии:', k)\n",
    "print('Минимальное значение функции x*sin(1/x), полученное методом дихотомии:',f_3((x_1 + x_2)/2), 'соответсвующая координата:', (x_1 + x_2)/2)"
   ]
  },
  {
   "cell_type": "markdown",
   "id": "16a0ac05",
   "metadata": {},
   "source": [
    " golden section search"
   ]
  },
  {
   "cell_type": "code",
   "execution_count": 9,
   "id": "05e118ad",
   "metadata": {},
   "outputs": [
    {
     "name": "stdout",
     "output_type": "stream",
     "text": [
      "Количество вычислений функции x^3, полученное методом золотого сечения: 17\n",
      "Количество итераций x^3, полученное методом золотого сечения: 15\n",
      "Минимальное значение функции x^3, полученное методом золотого сечения: 4.9256800857728296e-11 соответсвующая координата: 0.000366568717928702\n",
      "Количество вычислений функции |x - 0.2|, полученное методом золотого сечения: 17\n",
      "Количество итераций |x - 0.2|, полученное методом золотого сечения: 15\n",
      "Минимальное значение функции |x - 0.2|, полученное методом золотого сечения: 7.33137435857123e-05 соответсвующая координата: 0.20007331374358572\n",
      "Количество вычислений функции x*sin(1/x), полученное методом золотого сечения: 17\n",
      "Количество итераций x*sin(1/x), полученное методом золотого сечения: 15\n",
      "Минимальное значение функции x*sin(1/x), полученное методом золотого сечения: -0.21723232817753246 соответсвующая координата: 0.22271959361960325\n"
     ]
    }
   ],
   "source": [
    "a = 0\n",
    "b = 1\n",
    "k = 0\n",
    "x_1 = a + 0.5*(3-pow(5, 0.5))*(b - a)\n",
    "x_2 = b + 0.5*(pow(5, 0.5) - 3)*(b - a)\n",
    "f1 = f_1(x_1)\n",
    "f2 = f_1(x_2)\n",
    "k = 2\n",
    "while (math.fabs(b - a)) >= e:\n",
    "    if f1 < f2:\n",
    "        a = a\n",
    "        b = x_2\n",
    "        x_2 = x_1\n",
    "        f2 = f1 #следует из условия: x_2 = x_1\n",
    "        x_1 = a + 0.5*(3-pow(5, 0.5))*(b - a)\n",
    "        f1 = f_1(x_1)\n",
    "        k += 1\n",
    "    else:\n",
    "        a = x_1\n",
    "        b = b\n",
    "        x_1 = x_2\n",
    "        f1 = f2 #следует из условия: x_1 = x_2\n",
    "        x_2 = b + 0.5*(pow(5, 0.5) - 3)*(b - a)\n",
    "        f2 = f_1(x_2)\n",
    "        k += 1\n",
    "        \n",
    "print('Количество вычислений функции x^3, полученное методом золотого сечения:',k)\n",
    "print('Количество итераций x^3, полученное методом золотого сечения:', k - 1)\n",
    "print('Минимальное значение функции x^3, полученное методом золотого сечения:', f_1((x_1 + x_2)/2), 'соответсвующая координата:', (x_1 + x_2)/2)\n",
    "        \n",
    "a = 0\n",
    "b = 1\n",
    "k = 0    \n",
    "x_1 = a + 0.5*(3-pow(5, 0.5))*(b - a)\n",
    "x_2 = b + 0.5*(pow(5, 0.5) - 3)*(b - a)\n",
    "f1 = f_2(x_1)\n",
    "f2 = f_2(x_2)\n",
    "k = 2\n",
    "while (math.fabs(b - a)) >= e:\n",
    "    if f1 < f2:\n",
    "        a = a\n",
    "        b = x_2\n",
    "        x_2 = x_1\n",
    "        f2 = f1 #следует из условия: x_2 = x_1\n",
    "        x_1 = a + 0.5*(3-pow(5, 0.5))*(b - a)\n",
    "        f1 = f_2(x_1)\n",
    "        k += 1\n",
    "    else:\n",
    "        a = x_1\n",
    "        b = b\n",
    "        x_1 = x_2\n",
    "        f1 = f2 #следует из условия: x_1 = x_2\n",
    "        x_2 = b + 0.5*(pow(5, 0.5) - 3)*(b - a)\n",
    "        f2 = f_2(x_2)\n",
    "        k += 1\n",
    "        \n",
    "print('Количество вычислений функции |x - 0.2|, полученное методом золотого сечения:',k)\n",
    "print('Количество итераций |x - 0.2|, полученное методом золотого сечения:', k - 1)        \n",
    "print('Минимальное значение функции |x - 0.2|, полученное методом золотого сечения:', f_2((x_1 + x_2)/2), 'соответсвующая координата:', (x_1 + x_2)/2)\n",
    "\n",
    "a = 0.01\n",
    "b = 1\n",
    "k = 0    \n",
    "x_1 = a + 0.5*(3-pow(5, 0.5))*(b - a)\n",
    "x_2 = b + 0.5*(pow(5, 0.5) - 3)*(b - a)\n",
    "f1 = f_3(x_1)\n",
    "f2 = f_3(x_2)\n",
    "k = 2\n",
    "while (math.fabs(b - a)) >= e:\n",
    "    if f1 < f2:\n",
    "        a = a\n",
    "        b = x_2\n",
    "        x_2 = x_1\n",
    "        f2 = f1 #следует из условия: x_2 = x_1\n",
    "        x_1 = a + 0.5*(3-pow(5, 0.5))*(b - a)\n",
    "        f1 = f_3(x_1)\n",
    "        k += 1\n",
    "    else:\n",
    "        a = x_1\n",
    "        b = b\n",
    "        x_1 = x_2\n",
    "        f1 = f2 #следует из условия: x_1 = x_2\n",
    "        x_2 = b + 0.5*(pow(5, 0.5) - 3)*(b - a)\n",
    "        f2 = f_3(x_2)\n",
    "        k += 1   \n",
    "        \n",
    "print('Количество вычислений функции x*sin(1/x), полученное методом золотого сечения:',k)\n",
    "print('Количество итераций x*sin(1/x), полученное методом золотого сечения:', k - 1)  \n",
    "print('Минимальное значение функции x*sin(1/x), полученное методом золотого сечения:', f_3((x_1 + x_2)/2), 'соответсвующая координата:', (x_1 + x_2)/2)\n",
    "       "
   ]
  },
  {
   "cell_type": "markdown",
   "id": "4e9e3f4a",
   "metadata": {},
   "source": [
    "II"
   ]
  },
  {
   "cell_type": "code",
   "execution_count": 10,
   "id": "a2e63f92",
   "metadata": {},
   "outputs": [],
   "source": [
    "alfa = random.uniform(0, 1)\n",
    "beta = random.uniform(0, 1)\n",
    "k = np.arange(0, 101, 1)\n",
    "delta = np.random.normal(size=len(k))\n",
    "y = []"
   ]
  },
  {
   "cell_type": "code",
   "execution_count": 11,
   "id": "849aff5a",
   "metadata": {},
   "outputs": [],
   "source": [
    "def F1(x_k, a, b):\n",
    "    return a*x_k +b\n",
    "\n",
    "def F2(x_k, a, b):\n",
    "    return (a/(1 + b*x_k))"
   ]
  },
  {
   "cell_type": "code",
   "execution_count": 12,
   "id": "acbeb098",
   "metadata": {},
   "outputs": [],
   "source": [
    "y = []\n",
    "for i in k:\n",
    "    x_k = i/100\n",
    "    y.append(alfa*x_k + beta + delta[i])\n"
   ]
  },
  {
   "cell_type": "markdown",
   "id": "7fb4f9db",
   "metadata": {},
   "source": [
    "метод перебора"
   ]
  },
  {
   "cell_type": "code",
   "execution_count": 13,
   "id": "dd906341",
   "metadata": {},
   "outputs": [],
   "source": [
    "i = 0\n",
    "j = 0\n",
    "N= n(1, 0,e)\n",
    "a = []\n",
    "b = []\n",
    "SUM = []\n",
    "k = np.arange(0, 101, 1)\n",
    "while j <= N:\n",
    "    a.append(0 + j/N)\n",
    "    while i <= N:\n",
    "        b.append(0 + i/N)\n",
    "        D = 0\n",
    "        for t in k:\n",
    "            x_k = t/100\n",
    "            F_1 = F1(x_k, a[j], b[i])\n",
    "            D = pow(F_1 - y[t], 2) + D\n",
    "        SUM.append(D)\n",
    "        MIN = min(SUM)\n",
    "        if D == MIN:\n",
    "            A_1 = a[j]\n",
    "            B_1 = b[i]\n",
    "        i += 1 \n",
    "    j += 1\n",
    "    i = 0\n"
   ]
  },
  {
   "cell_type": "code",
   "execution_count": 14,
   "id": "416f2a5a",
   "metadata": {},
   "outputs": [],
   "source": [
    "i = 0\n",
    "j = 0\n",
    "N= n(1, 0,e)\n",
    "a = []\n",
    "b = []\n",
    "SUM = []\n",
    "k = np.arange(0, 101, 1)\n",
    "while j <= N:\n",
    "    a.append(0 + j/N)\n",
    "    while i <= N:\n",
    "        b.append(0 + i/N)\n",
    "        D = 0\n",
    "        for t in k:\n",
    "            x_k = t/100\n",
    "            F_2 = F2(x_k, a[j], b[i])\n",
    "            D = pow(F_2 - y[t], 2) + D\n",
    "        SUM.append(D)\n",
    "        MIN = min(SUM)\n",
    "        if D == MIN:\n",
    "            A_2 = a[j]\n",
    "            B_2 = b[i]\n",
    "        i += 1 \n",
    "    j += 1\n",
    "    i = 0\n"
   ]
  },
  {
   "cell_type": "code",
   "execution_count": 15,
   "id": "ff226dd3",
   "metadata": {},
   "outputs": [
    {
     "data": {
      "image/png": "[encoded data removed]",
      "text/plain": [
       "<Figure size 360x216 with 1 Axes>"
      ]
     },
     "metadata": {
      "needs_background": "light"
     },
     "output_type": "display_data"
    }
   ],
   "source": [
    "fig, ax = plt.subplots(figsize=(5, 3))"
   ]
  },
  {
   "cell_type": "code",
   "execution_count": 16,
   "id": "2bd45ea0",
   "metadata": {},
   "outputs": [],
   "source": [
    "x = np.linspace(0, 1, 101)\n",
    "y_k = alfa*x + beta"
   ]
  },
  {
   "cell_type": "markdown",
   "id": "7480f5be",
   "metadata": {},
   "source": [
    "метод Гаусса"
   ]
  },
  {
   "cell_type": "code",
   "execution_count": 63,
   "id": "2013b565",
   "metadata": {},
   "outputs": [],
   "source": [
    "a = []\n",
    "b = []\n",
    "SUM = []\n",
    "MIN_SUM = []\n",
    "i = 0\n",
    "j = 0\n",
    "N= n(1, 0,e)\n",
    "k = np.arange(0, 101, 1)\n",
    "delta = 1\n",
    "s = 0\n",
    "D = 0\n",
    "\n",
    "for t in k:\n",
    "    x_k = t/100\n",
    "    F_1 = F1(x_k, 0.01, 0.0003)\n",
    "    D = pow((F_1 - y[t]), 2) + D\n",
    "\n",
    "MIN_SUM.append(D)\n",
    "A_1_GAUS = 0.0001\n",
    "B_1_GAUS = 0.0003\n",
    "SUM = []\n",
    "D = 0\n",
    "while j <= N:\n",
    "        D = 0\n",
    "        b.append(j/N)\n",
    "        for t in k:\n",
    "\n",
    "            x_k = t/100\n",
    "            F_1 = F1(x_k, A_1_GAUS, b[j])\n",
    "            D = pow((F_1 - y[t]), 2) + D\n",
    "        \n",
    "        SUM.append(D)\n",
    "        \n",
    "        MIN_B = min(SUM)\n",
    "        \n",
    "        if D == MIN_B:\n",
    "            B_1_GAUS = b[j]\n",
    "        j += 1\n",
    "MIN_SUM.append(MIN_B)\n",
    "count = 0\n",
    "while math.fabs(MIN_SUM[2*s + 1] - MIN_SUM[2*s]) > e:\n",
    "    j = 0\n",
    "    SUM = []\n",
    "    a = []\n",
    "    b = []\n",
    "    while j <= N:\n",
    "\n",
    "        a.append(j/N)\n",
    "        D = 0\n",
    "        for t in k:\n",
    "            \n",
    "            x_k = t/100\n",
    "            F_1 = F1(x_k, a[j], B_1_GAUS)\n",
    "            D = pow(F_1 - y[t], 2) + D\n",
    "            count +=1\n",
    "        SUM.append(D)\n",
    "        MIN_A = min(SUM)\n",
    "        if D == MIN_A:\n",
    "            A_1_GAUS = a[j]\n",
    "        j += 1\n",
    "        \n",
    "    MIN_SUM.append(MIN_A)\n",
    "    j = 0\n",
    "    D = 0\n",
    "    SUM = []\n",
    "    b = []\n",
    "    while j <= N:\n",
    "        D = 0\n",
    "\n",
    "        b.append(j/N)\n",
    "        for t in k:\n",
    "\n",
    "            x_k = t/100\n",
    "            F_1 = F1(x_k, A_1_GAUS, b[j])\n",
    "            D = pow(F_1 - y[t], 2) + D\n",
    "            count +=1\n",
    "        SUM.append(D)\n",
    "    \n",
    "        MIN_B = min(SUM)\n",
    "        if D == MIN_B:\n",
    "            B_1_GAUS = b[j]\n",
    "        j += 1\n",
    "    MIN_SUM.append(MIN_B)\n",
    "    \n",
    "    s +=1\n",
    "    "
   ]
  },
  {
   "cell_type": "code",
   "execution_count": 66,
   "id": "11e58b7f",
   "metadata": {},
   "outputs": [
    {
     "data": {
      "text/plain": [
       "2123222"
      ]
     },
     "execution_count": 66,
     "metadata": {},
     "output_type": "execute_result"
    }
   ],
   "source": [
    "1001*101 + 2022020 + 101"
   ]
  },
  {
   "cell_type": "code",
   "execution_count": 67,
   "id": "7750b7d9",
   "metadata": {},
   "outputs": [
    {
     "data": {
      "text/plain": [
       "47.66439920083722"
      ]
     },
     "execution_count": 67,
     "metadata": {},
     "output_type": "execute_result"
    }
   ],
   "source": [
    "101202101/2123222"
   ]
  },
  {
   "cell_type": "code",
   "execution_count": 18,
   "id": "4d09d509",
   "metadata": {},
   "outputs": [
    {
     "name": "stdout",
     "output_type": "stream",
     "text": [
      "0.423 0.87\n",
      "0.439 0.862\n"
     ]
    }
   ],
   "source": [
    "print(A_1_GAUS, B_1_GAUS)\n",
    "print(A_1, B_1)"
   ]
  },
  {
   "cell_type": "code",
   "execution_count": 130,
   "id": "b19a4b21",
   "metadata": {},
   "outputs": [],
   "source": [
    "a = []\n",
    "b = []\n",
    "SUM = []\n",
    "MIN_SUM = []\n",
    "i = 0\n",
    "j = 0\n",
    "N= n(1, 0,e)\n",
    "k = np.arange(0, 101, 1)\n",
    "delta = 1\n",
    "s = 0\n",
    "D = 0\n",
    "\n",
    "for t in k:\n",
    "    x_k = t/100\n",
    "    F_2 = F2(x_k, 0.01, 0.0003)\n",
    "    D = pow((F_2 - y[t]), 2) + D\n",
    "\n",
    "MIN_SUM.append(D)\n",
    "A_2_GAUS = 0.0001\n",
    "B_2_GAUS = 0.0003\n",
    "SUM = []\n",
    "D = 0\n",
    "while j <= N:\n",
    "        D = 0\n",
    "        b.append(j/N)\n",
    "        for t in k:\n",
    "\n",
    "            x_k = t/100\n",
    "            F_2 = F2(x_k, A_2_GAUS, b[j])\n",
    "            D = pow((F_2 - y[t]), 2) + D\n",
    "        \n",
    "        SUM.append(D)\n",
    "        \n",
    "        MIN_B = min(SUM)\n",
    "        \n",
    "        if D == MIN_B:\n",
    "            B_2_GAUS = b[j]\n",
    "        j += 1\n",
    "MIN_SUM.append(MIN_B)\n",
    "count = 0\n",
    "while math.fabs(MIN_SUM[2*s + 1] - MIN_SUM[2*s]) > e:\n",
    "    j = 0\n",
    "    SUM = []\n",
    "    a = []\n",
    "    b = []\n",
    "    while j <= N:\n",
    "\n",
    "        a.append(j/N)\n",
    "        D = 0\n",
    "        for t in k:\n",
    "            \n",
    "            x_k = t/100\n",
    "            F_2 = F2(x_k, a[j], B_2_GAUS)\n",
    "            D = pow(F_2 - y[t], 2) + D\n",
    "            count +=1\n",
    "        SUM.append(D)\n",
    "        MIN_A = min(SUM)\n",
    "        if D == MIN_A:\n",
    "            A_2_GAUS = a[j]\n",
    "        j += 1\n",
    "        \n",
    "    MIN_SUM.append(MIN_A)\n",
    "    j = 0\n",
    "    D = 0\n",
    "    SUM = []\n",
    "    b = []\n",
    "    while j <= N:\n",
    "        D = 0\n",
    "\n",
    "        b.append(j/N)\n",
    "        for t in k:\n",
    "\n",
    "            x_k = t/100\n",
    "            F_2 = F2(x_k, A_2_GAUS, b[j])\n",
    "            D = pow(F_2 - y[t], 2) + D\n",
    "        SUM.append(D)\n",
    "    \n",
    "        MIN_B = min(SUM)\n",
    "        if D == MIN_B:\n",
    "            B_2_GAUS = b[j]\n",
    "        j += 1\n",
    "    MIN_SUM.append(MIN_B)\n",
    "    \n",
    "    s +=1"
   ]
  },
  {
   "cell_type": "code",
   "execution_count": 131,
   "id": "71a6d8b0",
   "metadata": {},
   "outputs": [
    {
     "name": "stdout",
     "output_type": "stream",
     "text": [
      "1.0 0.0\n",
      "1.0 0.0\n"
     ]
    }
   ],
   "source": [
    "print(A_2_GAUS, B_2_GAUS)\n",
    "print(A_2, B_2)"
   ]
  },
  {
   "cell_type": "code",
   "execution_count": 38,
   "id": "54df2d0e",
   "metadata": {},
   "outputs": [
    {
     "name": "stdout",
     "output_type": "stream",
     "text": [
      "Result of Nelder-Mead algorithm: \n",
      "0.036856272554863415\n",
      "Best poits is: 0.43911978333240487 0.8619808233215913\n"
     ]
    }
   ],
   "source": [
    "class Vector(object):\n",
    "    def __init__(self, x, y):\n",
    "        \"\"\" Create a vector, example: v = Vector(1,2) \"\"\"\n",
    "        self.x = x\n",
    "        self.y = y\n",
    "\n",
    "    def __repr__(self):\n",
    "        return \"({0}, {1})\".format(self.x, self.y)\n",
    "\n",
    "    def __add__(self, other):\n",
    "        x = self.x + other.x\n",
    "        y = self.y + other.y\n",
    "        return Vector(x, y)\n",
    "\n",
    "    def __sub__(self, other):\n",
    "        x = self.x - other.x\n",
    "        y = self.y - other.y\n",
    "        return Vector(x, y)\n",
    "\n",
    "    def __rmul__(self, other):\n",
    "        x = self.x * other\n",
    "        y = self.y * other\n",
    "        return Vector(x, y)\n",
    "\n",
    "    def __truediv__(self, other):\n",
    "        x = self.x / other\n",
    "        y = self.y / other\n",
    "        return Vector(x, y)\n",
    "\n",
    "    def c(self):\n",
    "        return (self.x, self.y)\n",
    "        \n",
    "# objective function\n",
    "def f(point, y):\n",
    "\n",
    "    a, b = point\n",
    "    k = np.arange(0, 101, 1)\n",
    "    D = 0\n",
    "    for t in k:     \n",
    "        x_k = t/100\n",
    "        F_1 = F1(x_k, a, b)\n",
    "        D = pow(F_1 - y[t], 2) + D\n",
    "    return D\n",
    "\n",
    "def nelder_mead(alpha=1, beta=0.5, gamma=2, maxiter=100):\n",
    "    \n",
    "    # initialization\n",
    "    v1 = Vector(0, 0)\n",
    "    v2 = Vector(0.0001, 0)\n",
    "    v3 = Vector(0, 0.0003)\n",
    "    best_A= []\n",
    "    best_B= []\n",
    "\n",
    "\n",
    "    for i in range(maxiter):\n",
    "        adict = {v1:f(v1.c(), y), v2:f(v2.c(), y), v3:f(v3.c(), y)}\n",
    "        points = sorted(adict.items(), key=lambda x: x[1])\n",
    "        \n",
    "        b = points[0][0]\n",
    "        g = points[1][0]\n",
    "        w = points[2][0]\n",
    "        \n",
    "        \n",
    "        \n",
    "        mid = (g + b)/2\n",
    "\n",
    "        # reflection\n",
    "        xr = mid + alpha * (mid - w)\n",
    "        if f(xr.c(), y) < f(g.c(), y):\n",
    "            w = xr\n",
    "        else:\n",
    "            if f(xr.c(), y) < f(w.c(), y):\n",
    "                w = xr\n",
    "            c = (w + mid)/2\n",
    "            if f(c.c(), y) < f(w.c(), y):\n",
    "                w = c\n",
    "        if f(xr.c(), y) < f(b.c(), y):\n",
    "\n",
    "            # expansion\n",
    "            xe = mid + gamma * (xr - mid)\n",
    "            if f(xe.c(), y) < f(xr.c(), y):\n",
    "                w = xe\n",
    "            else:\n",
    "                w = xr\n",
    "        if f(xr.c(), y) > f(g.c(), y):\n",
    "            \n",
    "            # contraction\n",
    "            xc = mid + beta * (w - mid)\n",
    "            if f(xc.c(), y) < f(w.c(), y):\n",
    "                w = xc\n",
    "\n",
    "        # update points\n",
    "        v1 = w\n",
    "        v2 = g\n",
    "        v3 = b\n",
    "        A, B = b.c() \n",
    "        best_A.append(A)\n",
    "        best_B.append(B)\n",
    "    return best_A, best_B\n",
    "\n",
    "print(\"Result of Nelder-Mead algorithm: \")\n",
    "\n",
    "    \n",
    "D_A = []\n",
    "D_B = []\n",
    "\n",
    "xk = nelder_mead()\n",
    "A_NER, B_NER =xk\n",
    "D_A.append(A_NER)\n",
    "D_B.append(B_NER)\n",
    "\n",
    "print(statistics.variance(A_NER))\n",
    "    \n",
    "print(\"Best poits is: %s\"%(A_NER[len(A_NER)-1]), (B_NER[len(A_NER)-1]))"
   ]
  },
  {
   "cell_type": "code",
   "execution_count": 28,
   "id": "9ffe33ff",
   "metadata": {},
   "outputs": [
    {
     "data": {
      "text/plain": [
       "100"
      ]
     },
     "execution_count": 28,
     "metadata": {},
     "output_type": "execute_result"
    }
   ],
   "source": [
    "len(B_NER)"
   ]
  },
  {
   "cell_type": "code",
   "execution_count": 172,
   "id": "ae402c4a",
   "metadata": {},
   "outputs": [
    {
     "name": "stdout",
     "output_type": "stream",
     "text": [
      "Result of Nelder-Mead algorithm: \n",
      "0.08341641641641656\n",
      "Best poits is: 1.0010000000000008 0.0\n"
     ]
    }
   ],
   "source": [
    "class Vector(object):\n",
    "    def __init__(self, x, y):\n",
    "        \"\"\" Create a vector, example: v = Vector(1,2) \"\"\"\n",
    "        self.x = x\n",
    "        self.y = y\n",
    "\n",
    "    def __repr__(self):\n",
    "        return \"({0}, {1})\".format(self.x, self.y)\n",
    "\n",
    "    def __add__(self, other):\n",
    "        x = self.x + other.x\n",
    "        y = self.y + other.y\n",
    "        return Vector(x, y)\n",
    "\n",
    "    def __sub__(self, other):\n",
    "        x = self.x - other.x\n",
    "        y = self.y - other.y\n",
    "        return Vector(x, y)\n",
    "\n",
    "    def __rmul__(self, other):\n",
    "        x = self.x * other\n",
    "        y = self.y * other\n",
    "        return Vector(x, y)\n",
    "\n",
    "    def __truediv__(self, other):\n",
    "        x = self.x / other\n",
    "        y = self.y / other\n",
    "        return Vector(x, y)\n",
    "\n",
    "    def c(self):\n",
    "        return (self.x, self.y)\n",
    "        \n",
    "# objective function\n",
    "def f(point, y):\n",
    "\n",
    "    a, b = point\n",
    "    k = np.arange(0, 101, 1)\n",
    "    D = 0\n",
    "    for t in k:     \n",
    "        x_k = t/100\n",
    "        F_2 = F2(x_k, a, b)\n",
    "        D = pow(F_2 - y[t], 2) + D\n",
    "    return D\n",
    "\n",
    "def nelder_mead(alpha=1,beta=0.5, gamma=1, maxiter=1000):\n",
    "    \n",
    "    # initialization\n",
    "    v1 = Vector(0.001, 0)\n",
    "    v2 = Vector(0.001, 0)\n",
    "    v3 = Vector(0.003, 0)\n",
    "    best_A= []\n",
    "    best_B= []\n",
    "\n",
    "\n",
    "    for i in range(maxiter):\n",
    "        adict = {v1:f(v1.c(), y), v2:f(v2.c(), y), v3:f(v3.c(), y)}\n",
    "        points = sorted(adict.items(), key=lambda x: x[1])\n",
    "        \n",
    "        b = points[0][0]\n",
    "        g = points[1][0]\n",
    "        w = points[2][0]\n",
    "        \n",
    "        \n",
    "        \n",
    "        mid = (g + b)/2\n",
    "\n",
    "        # reflection\n",
    "        xr = mid + alpha * (mid - w)\n",
    "        if f(xr.c(), y) < f(g.c(), y):\n",
    "            w = xr\n",
    "        else:\n",
    "            if f(xr.c(), y) < f(w.c(), y):\n",
    "                w = xr\n",
    "            c = (w + mid)/2\n",
    "            if f(c.c(), y) < f(w.c(), y):\n",
    "                w = c\n",
    "        if f(xr.c(), y) < f(b.c(), y):\n",
    "\n",
    "            # expansion\n",
    "            xe = mid + gamma * (xr - mid)\n",
    "            if f(xe.c(), y) < f(xr.c(), y):\n",
    "                w = xe\n",
    "            else:\n",
    "                w = xr\n",
    "        if f(xr.c(), y) > f(g.c(), y):\n",
    "            \n",
    "            # contraction\n",
    "            xc = mid + beta * (w - mid)\n",
    "            if f(xc.c(), y) < f(w.c(), y):\n",
    "                w = xc\n",
    "\n",
    "        # update points\n",
    "        v1 = w\n",
    "        v2 = g\n",
    "        v3 = b\n",
    "        A, B = b.c() \n",
    "        best_A.append(A)\n",
    "        best_B.append(B)\n",
    "    return best_A, best_B\n",
    "\n",
    "print(\"Result of Nelder-Mead algorithm: \")\n",
    "\n",
    "    \n",
    "D_A = []\n",
    "D_B = []\n",
    "\n",
    "xk = nelder_mead()\n",
    "A_NER_2, B_NER_2 =xk\n",
    "\n",
    "print(statistics.variance(A_NER_2))\n",
    "    \n",
    "print(\"Best poits is: %s\"%(A_NER_2[len(A_NER_2)-1]), (B_NER_2[len(A_NER_2)-1]))"
   ]
  },
  {
   "cell_type": "code",
   "execution_count": 30,
   "id": "fec84f85",
   "metadata": {},
   "outputs": [
    {
     "ename": "NameError",
     "evalue": "name 'B_NER_2' is not defined",
     "output_type": "error",
     "traceback": [
      "\u001b[1;31m---------------------------------------------------------------------------\u001b[0m",
      "\u001b[1;31mNameError\u001b[0m                                 Traceback (most recent call last)",
      "\u001b[1;32m<ipython-input-30-b5bc9589776c>\u001b[0m in \u001b[0;36m<module>\u001b[1;34m\u001b[0m\n\u001b[1;32m----> 1\u001b[1;33m \u001b[0mlen\u001b[0m\u001b[1;33m(\u001b[0m\u001b[0mB_NER_2\u001b[0m\u001b[1;33m)\u001b[0m\u001b[1;33m\u001b[0m\u001b[1;33m\u001b[0m\u001b[0m\n\u001b[0m",
      "\u001b[1;31mNameError\u001b[0m: name 'B_NER_2' is not defined"
     ]
    }
   ],
   "source": [
    "len(B_NER_2)"
   ]
  },
  {
   "cell_type": "code",
   "execution_count": 60,
   "id": "b71f8ca2",
   "metadata": {},
   "outputs": [
    {
     "data": {
      "text/plain": [
       "<matplotlib.legend.Legend at 0x1fc66f59a60>"
      ]
     },
     "execution_count": 60,
     "metadata": {},
     "output_type": "execute_result"
    },
    {
     "data": {
      "image/png": "[encoded data removed]",
      "text/plain": [
       "<Figure size 432x288 with 1 Axes>"
      ]
     },
     "metadata": {
      "needs_background": "light"
     },
     "output_type": "display_data"
    }
   ],
   "source": [
    "plt.scatter(x, y)\n",
    "plt.plot(x, y_k, 'b-')\n",
    "plt.plot(x, F1(x, A_1_GAUS, B_1_GAUS), 'k-')\n",
    "plt.xlabel('The coordinate of x_k')\n",
    "plt.ylabel('The coordinate of y_k')\n",
    "plt.legend([ \"Порождающая прямая\", \"Метод Гаусса\",\"Сгенерированные данные\"], loc =\"upper left\")"
   ]
  },
  {
   "cell_type": "code",
   "execution_count": 72,
   "id": "a326b110",
   "metadata": {},
   "outputs": [
    {
     "data": {
      "text/plain": [
       "<matplotlib.legend.Legend at 0x1fc6814c730>"
      ]
     },
     "execution_count": 72,
     "metadata": {},
     "output_type": "execute_result"
    },
    {
     "data": {
      "image/png": "[encoded data removed]",
      "text/plain": [
       "<Figure size 432x288 with 1 Axes>"
      ]
     },
     "metadata": {
      "needs_background": "light"
     },
     "output_type": "display_data"
    }
   ],
   "source": [
    "plt.scatter(x, y)\n",
    "plt.plot(x, y_k, 'b-')\n",
    "plt.plot(x, F2(x, A_NER_2[len(A_NER_2)-1], B_NER_2[len(A_NER_2)-1]), 'k-')\n",
    "plt.xlabel('The coordinate of x_k')\n",
    "plt.ylabel('The coordinate of y_k')\n",
    "plt.legend([ \"Порождающая прямая\", \"Метод Нелдера-Мида\",\"Сгенерированные данные\"], loc =\"upper left\")"
   ]
  },
  {
   "cell_type": "code",
   "execution_count": null,
   "id": "6b8ff068",
   "metadata": {},
   "outputs": [],
   "source": [
    "plt.scatter(x, y)\n",
    "plt.plot(x, y_k, 'b-')\n",
    "plt.plot(x, F2(x, A_2_GAUS, B_2_GAUS), 'k-')\n",
    "plt.xlabel('The coordinate of x_k')\n",
    "plt.ylabel('The coordinate of y_k')\n",
    "plt.legend([ \"Порождающая прямая\", \"Метод Гаусса\",\"Сгенерированные данные\"], loc =\"upper left\")"
   ]
  },
  {
   "cell_type": "code",
   "execution_count": 75,
   "id": "35bc3bec",
   "metadata": {},
   "outputs": [
    {
     "data": {
      "text/plain": [
       "<matplotlib.legend.Legend at 0x1fc6829afa0>"
      ]
     },
     "execution_count": 75,
     "metadata": {},
     "output_type": "execute_result"
    },
    {
     "data": {
      "image/png": "[encoded data removed]",
      "text/plain": [
       "<Figure size 432x288 with 1 Axes>"
      ]
     },
     "metadata": {
      "needs_background": "light"
     },
     "output_type": "display_data"
    }
   ],
   "source": [
    "plt.scatter(x, y)\n",
    "plt.plot(x, y_k, 'b-')\n",
    "plt.plot(x, F1(x, A_1, B_1), 'k-')\n",
    "plt.plot(x, F1(x, A_1_GAUS, B_1_GAUS), 'y-')\n",
    "plt.plot(x, F1(x, A_NER[len(A_NER)-1], B_NER[len(A_NER)-1]), 'r-')\n",
    "plt.xlabel('The coordinate of x_k')\n",
    "plt.ylabel('The coordinate of y_k')\n",
    "plt.legend([ \"Порождающая прямая\", \"Метод перебора\", \"Метод Гаусса\", \"Метод Нелдера-Мида\",\"Сгенерированные данные\"], loc =\"upper left\")"
   ]
  },
  {
   "cell_type": "code",
   "execution_count": 173,
   "id": "73a9ddc7",
   "metadata": {},
   "outputs": [
    {
     "data": {
      "text/plain": [
       "<matplotlib.legend.Legend at 0x1fc6864bbb0>"
      ]
     },
     "execution_count": 173,
     "metadata": {},
     "output_type": "execute_result"
    },
    {
     "data": {
      "image/png": "[encoded data removed]",
      "text/plain": [
       "<Figure size 432x288 with 1 Axes>"
      ]
     },
     "metadata": {
      "needs_background": "light"
     },
     "output_type": "display_data"
    }
   ],
   "source": [
    "plt.scatter(x, y)\n",
    "plt.plot(x, y_k, 'b-')\n",
    "plt.plot(x, F2(x, A_2, B_2), 'k-')\n",
    "plt.plot(x, F2(x, A_2_GAUS, B_2_GAUS), 'y-')\n",
    "plt.plot(x, F2(x, A_NER_2[len(A_NER_2)-1], B_NER_2[len(A_NER_2)-1]), 'r-')\n",
    "plt.xlabel('The coordinate of x_k')\n",
    "plt.ylabel('The coordinate of y_k')\n",
    "plt.legend([ \"Порождающая прямая\", \"Метод перебора\", \"Метод Гаусса\", \"Метод Нелдера-Мида\",\"Сгенерированные данные\"], loc =\"upper left\")"
   ]
  },
  {
   "cell_type": "code",
   "execution_count": null,
   "id": "6fd6cd63",
   "metadata": {},
   "outputs": [],
   "source": []
  }
 ],
 "metadata": {
  "kernelspec": {
   "display_name": "Python 3",
   "language": "python",
   "name": "python3"
  },
  "language_info": {
   "codemirror_mode": {
    "name": "ipython",
    "version": 3
   },
   "file_extension": ".py",
   "mimetype": "text/x-python",
   "name": "python",
   "nbconvert_exporter": "python",
   "pygments_lexer": "ipython3",
   "version": "3.8.8"
  }
 },
 "nbformat": 4,
 "nbformat_minor": 5
}
