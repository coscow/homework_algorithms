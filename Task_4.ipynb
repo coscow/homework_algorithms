{
 "cells": [
  {
   "cell_type": "code",
   "execution_count": 9,
   "id": "2339cffc",
   "metadata": {},
   "outputs": [
    {
     "ename": "FileNotFoundError",
     "evalue": "Could not find module 'C:\\space\\lib\\site-packages\\scipy\\.libs\\libbanded5x.CBCBXIAYFUWOYCSBXUA2BT6W76FYX4C7.gfortran-win_amd64.dll' (or one of its dependencies). Try using the full path with constructor syntax.",
     "output_type": "error",
     "traceback": [
      "\u001b[1;31m---------------------------------------------------------------------------\u001b[0m",
      "\u001b[1;31mFileNotFoundError\u001b[0m                         Traceback (most recent call last)",
      "\u001b[1;32mC:\\Users\\E8E5~1\\AppData\\Local\\Temp/ipykernel_2448/3017965525.py\u001b[0m in \u001b[0;36m<module>\u001b[1;34m\u001b[0m\n\u001b[0;32m      6\u001b[0m \u001b[1;32mimport\u001b[0m \u001b[0mstatistics\u001b[0m\u001b[1;33m\u001b[0m\u001b[1;33m\u001b[0m\u001b[0m\n\u001b[0;32m      7\u001b[0m \u001b[1;32mfrom\u001b[0m \u001b[0mnumpy\u001b[0m\u001b[1;33m.\u001b[0m\u001b[0mrandom\u001b[0m \u001b[1;32mimport\u001b[0m \u001b[0mrand\u001b[0m\u001b[1;33m\u001b[0m\u001b[1;33m\u001b[0m\u001b[0m\n\u001b[1;32m----> 8\u001b[1;33m \u001b[1;32mfrom\u001b[0m \u001b[0mscipy\u001b[0m \u001b[1;32mimport\u001b[0m \u001b[0moptimize\u001b[0m\u001b[1;33m\u001b[0m\u001b[1;33m\u001b[0m\u001b[0m\n\u001b[0m",
      "\u001b[1;32mC:\\space\\lib\\site-packages\\scipy\\__init__.py\u001b[0m in \u001b[0;36m<module>\u001b[1;34m\u001b[0m\n\u001b[0;32m    134\u001b[0m \u001b[1;33m\u001b[0m\u001b[0m\n\u001b[0;32m    135\u001b[0m     \u001b[1;31m# Allow distributors to run custom init code\u001b[0m\u001b[1;33m\u001b[0m\u001b[1;33m\u001b[0m\u001b[1;33m\u001b[0m\u001b[0m\n\u001b[1;32m--> 136\u001b[1;33m     \u001b[1;32mfrom\u001b[0m \u001b[1;33m.\u001b[0m \u001b[1;32mimport\u001b[0m \u001b[0m_distributor_init\u001b[0m\u001b[1;33m\u001b[0m\u001b[1;33m\u001b[0m\u001b[0m\n\u001b[0m\u001b[0;32m    137\u001b[0m \u001b[1;33m\u001b[0m\u001b[0m\n\u001b[0;32m    138\u001b[0m     \u001b[1;32mfrom\u001b[0m \u001b[0mscipy\u001b[0m\u001b[1;33m.\u001b[0m\u001b[0m_lib\u001b[0m \u001b[1;32mimport\u001b[0m \u001b[0m_pep440\u001b[0m\u001b[1;33m\u001b[0m\u001b[1;33m\u001b[0m\u001b[0m\n",
      "\u001b[1;32mC:\\space\\lib\\site-packages\\scipy\\_distributor_init.py\u001b[0m in \u001b[0;36m<module>\u001b[1;34m\u001b[0m\n\u001b[0;32m     57\u001b[0m             \u001b[0mos\u001b[0m\u001b[1;33m.\u001b[0m\u001b[0mchdir\u001b[0m\u001b[1;33m(\u001b[0m\u001b[0mlibs_path\u001b[0m\u001b[1;33m)\u001b[0m\u001b[1;33m\u001b[0m\u001b[1;33m\u001b[0m\u001b[0m\n\u001b[0;32m     58\u001b[0m             \u001b[1;32mfor\u001b[0m \u001b[0mfilename\u001b[0m \u001b[1;32min\u001b[0m \u001b[0mglob\u001b[0m\u001b[1;33m.\u001b[0m\u001b[0mglob\u001b[0m\u001b[1;33m(\u001b[0m\u001b[0mos\u001b[0m\u001b[1;33m.\u001b[0m\u001b[0mpath\u001b[0m\u001b[1;33m.\u001b[0m\u001b[0mjoin\u001b[0m\u001b[1;33m(\u001b[0m\u001b[0mlibs_path\u001b[0m\u001b[1;33m,\u001b[0m \u001b[1;34m'*dll'\u001b[0m\u001b[1;33m)\u001b[0m\u001b[1;33m)\u001b[0m\u001b[1;33m:\u001b[0m\u001b[1;33m\u001b[0m\u001b[1;33m\u001b[0m\u001b[0m\n\u001b[1;32m---> 59\u001b[1;33m                 \u001b[0mWinDLL\u001b[0m\u001b[1;33m(\u001b[0m\u001b[0mos\u001b[0m\u001b[1;33m.\u001b[0m\u001b[0mpath\u001b[0m\u001b[1;33m.\u001b[0m\u001b[0mabspath\u001b[0m\u001b[1;33m(\u001b[0m\u001b[0mfilename\u001b[0m\u001b[1;33m)\u001b[0m\u001b[1;33m)\u001b[0m\u001b[1;33m\u001b[0m\u001b[1;33m\u001b[0m\u001b[0m\n\u001b[0m\u001b[0;32m     60\u001b[0m         \u001b[1;32mfinally\u001b[0m\u001b[1;33m:\u001b[0m\u001b[1;33m\u001b[0m\u001b[1;33m\u001b[0m\u001b[0m\n\u001b[0;32m     61\u001b[0m             \u001b[0mos\u001b[0m\u001b[1;33m.\u001b[0m\u001b[0mchdir\u001b[0m\u001b[1;33m(\u001b[0m\u001b[0mowd\u001b[0m\u001b[1;33m)\u001b[0m\u001b[1;33m\u001b[0m\u001b[1;33m\u001b[0m\u001b[0m\n",
      "\u001b[1;32mC:\\space\\lib\\ctypes\\__init__.py\u001b[0m in \u001b[0;36m__init__\u001b[1;34m(self, name, mode, handle, use_errno, use_last_error, winmode)\u001b[0m\n\u001b[0;32m    371\u001b[0m \u001b[1;33m\u001b[0m\u001b[0m\n\u001b[0;32m    372\u001b[0m         \u001b[1;32mif\u001b[0m \u001b[0mhandle\u001b[0m \u001b[1;32mis\u001b[0m \u001b[1;32mNone\u001b[0m\u001b[1;33m:\u001b[0m\u001b[1;33m\u001b[0m\u001b[1;33m\u001b[0m\u001b[0m\n\u001b[1;32m--> 373\u001b[1;33m             \u001b[0mself\u001b[0m\u001b[1;33m.\u001b[0m\u001b[0m_handle\u001b[0m \u001b[1;33m=\u001b[0m \u001b[0m_dlopen\u001b[0m\u001b[1;33m(\u001b[0m\u001b[0mself\u001b[0m\u001b[1;33m.\u001b[0m\u001b[0m_name\u001b[0m\u001b[1;33m,\u001b[0m \u001b[0mmode\u001b[0m\u001b[1;33m)\u001b[0m\u001b[1;33m\u001b[0m\u001b[1;33m\u001b[0m\u001b[0m\n\u001b[0m\u001b[0;32m    374\u001b[0m         \u001b[1;32melse\u001b[0m\u001b[1;33m:\u001b[0m\u001b[1;33m\u001b[0m\u001b[1;33m\u001b[0m\u001b[0m\n\u001b[0;32m    375\u001b[0m             \u001b[0mself\u001b[0m\u001b[1;33m.\u001b[0m\u001b[0m_handle\u001b[0m \u001b[1;33m=\u001b[0m \u001b[0mhandle\u001b[0m\u001b[1;33m\u001b[0m\u001b[1;33m\u001b[0m\u001b[0m\n",
      "\u001b[1;31mFileNotFoundError\u001b[0m: Could not find module 'C:\\space\\lib\\site-packages\\scipy\\.libs\\libbanded5x.CBCBXIAYFUWOYCSBXUA2BT6W76FYX4C7.gfortran-win_amd64.dll' (or one of its dependencies). Try using the full path with constructor syntax."
     ]
    }
   ],
   "source": [
    "import math \n",
    "import numpy as np\n",
    "from sympy import diff, symbols, sin, solve\n",
    "import matplotlib.pyplot as plt\n",
    "import random\n",
    "import statistics\n",
    "from numpy.random import rand\n",
    "from scipy import optimize"
   ]
  },
  {
   "cell_type": "code",
   "execution_count": null,
   "id": "9ad6e2c4",
   "metadata": {},
   "outputs": [],
   "source": [
    "def F(x, a, b, c, d):\n",
    "    return (a*x + b)/(pow(x, 2) + c*x + d)\n",
    "def f(x):\n",
    "    return 1/(pow(x, 2) - 3*x + 2)"
   ]
  },
  {
   "cell_type": "code",
   "execution_count": null,
   "id": "66db8997",
   "metadata": {},
   "outputs": [],
   "source": [
    "k = np.arange(0, 1001, 1)\n",
    "delta = np.random.normal(size=len(k))"
   ]
  },
  {
   "cell_type": "code",
   "execution_count": null,
   "id": "7704ad48",
   "metadata": {},
   "outputs": [],
   "source": [
    "y = []\n",
    "x_list = []\n",
    "for i in k:\n",
    "    x_k = 3*i/1000\n",
    "    x_list.append(x_k)\n",
    "    if f(x_k) < -100:\n",
    "        y.append(-100 + delta[i])\n",
    "    elif (f(x_k) >= -100) and (f(x_k) <= 100):\n",
    "        y.append(f(x_k) + delta[i])\n",
    "    else:\n",
    "        y.append(100 + delta[i])"
   ]
  },
  {
   "cell_type": "code",
   "execution_count": null,
   "id": "2d294018",
   "metadata": {},
   "outputs": [],
   "source": [
    "x = np.asarray(x_list)"
   ]
  },
  {
   "cell_type": "code",
   "execution_count": null,
   "id": "f0427a2b",
   "metadata": {},
   "outputs": [],
   "source": [
    "def d_func_scp_lm(x):\n",
    "    resudials=[]\n",
    "    for i in range(1001):\n",
    "        f = (y[i] - F(x_list[i], x[0], x[1], x[2], x[3]))**2\n",
    "        resudials.append(f)\n",
    "    return np.array(resudials)"
   ]
  },
  {
   "cell_type": "code",
   "execution_count": null,
   "id": "5d909d28",
   "metadata": {},
   "outputs": [],
   "source": [
    "def d_func_scp(x):\n",
    "    alg_sum=0\n",
    "    for i in range(1001):\n",
    "        f = (y[i] - F(x_list[i],x[0],x[1], x[2], x[3]))**2\n",
    "        alg_sum+=f\n",
    "    return np.mean(alg_sum)"
   ]
  },
  {
   "cell_type": "code",
   "execution_count": null,
   "id": "f0c6bf22",
   "metadata": {},
   "outputs": [],
   "source": [
    "bounds = np.asarray([[0.00001, 1.0],[0.00001, 1.0],[0.00001, 1.0],[0.00001, 1.0]])\n",
    "x0 = np.asarray(bounds[:, 0])"
   ]
  },
  {
   "cell_type": "code",
   "execution_count": null,
   "id": "fc30d4ee",
   "metadata": {},
   "outputs": [],
   "source": [
    "res_lm = optimize.least_squares(d_func_scp_lm,x0,method=\"lm\", verbose = 2)\n",
    "a_M, b_M, c_M, d_M = res_lm.x\n"
   ]
  },
  {
   "cell_type": "code",
   "execution_count": null,
   "id": "35dbf19a",
   "metadata": {},
   "outputs": [],
   "source": [
    "plt.scatter(x, y)\n",
    "plt.plot(x, F(x, a_M, b_M, c_M, d_M), 'g-')\n",
    "plt.xlabel('The coordinate of x_k')\n",
    "plt.ylabel('The coordinate of y_k')\n",
    "plt.legend([ \"Levenberg-Marquardt method\",\"Generated data\"], loc =\"upper left\")"
   ]
  },
  {
   "cell_type": "code",
   "execution_count": null,
   "id": "de9d2203",
   "metadata": {},
   "outputs": [],
   "source": [
    "res0_10 = optimize.minimize(d_func_scp, x0, method='Nelder-Mead', options={'disp': True, 'maxiter': 3000})"
   ]
  },
  {
   "cell_type": "code",
   "execution_count": null,
   "id": "f2d35b5f",
   "metadata": {},
   "outputs": [],
   "source": [
    "a_N, b_N, c_N, d_N = res0_10.x"
   ]
  },
  {
   "cell_type": "code",
   "execution_count": null,
   "id": "2e594959",
   "metadata": {},
   "outputs": [],
   "source": [
    "plt.scatter(x, y)\n",
    "plt.plot(x, F(x, a_N, b_N, c_N, d_N), 'r-')\n",
    "plt.xlabel('The coordinate of x_k')\n",
    "plt.ylabel('The coordinate of y_k')\n",
    "plt.legend([ \"Nelder-Mead method\",\"Generated data\"], loc =\"upper left\")"
   ]
  },
  {
   "cell_type": "code",
   "execution_count": null,
   "id": "2ee18cdb",
   "metadata": {},
   "outputs": [],
   "source": [
    "from scipy.optimize import differential_evolution"
   ]
  },
  {
   "cell_type": "code",
   "execution_count": null,
   "id": "723e5708",
   "metadata": {},
   "outputs": [],
   "source": [
    "result = differential_evolution(d_func_scp, bounds,  disp = True)"
   ]
  },
  {
   "cell_type": "code",
   "execution_count": null,
   "id": "16a98151",
   "metadata": {},
   "outputs": [],
   "source": [
    "a_E, b_E, c_E, d_E = result.x"
   ]
  },
  {
   "cell_type": "code",
   "execution_count": null,
   "id": "d6c97f08",
   "metadata": {},
   "outputs": [],
   "source": [
    "plt.scatter(x, y)\n",
    "plt.plot(x, F(x, a_E, b_E, c_E, d_E), 'y-')\n",
    "plt.xlabel('The coordinate of x_k')\n",
    "plt.ylabel('The coordinate of y_k')\n",
    "plt.legend([ \"Differential evolution method\",\"Generated data\"], loc =\"upper left\")"
   ]
  },
  {
   "cell_type": "code",
   "execution_count": null,
   "id": "3b65776c",
   "metadata": {},
   "outputs": [],
   "source": [
    "from scipy.optimize import dual_annealing"
   ]
  },
  {
   "cell_type": "code",
   "execution_count": null,
   "id": "23ef7ace",
   "metadata": {},
   "outputs": [],
   "source": [
    "annealing = dual_annealing(d_func_scp, bounds)"
   ]
  },
  {
   "cell_type": "code",
   "execution_count": null,
   "id": "a579d518",
   "metadata": {},
   "outputs": [],
   "source": [
    "a_A, b_A, c_A, d_A = annealing.x"
   ]
  },
  {
   "cell_type": "code",
   "execution_count": null,
   "id": "8f4829ef",
   "metadata": {},
   "outputs": [],
   "source": [
    "plt.scatter(x, y)\n",
    "plt.plot(x, F(x, a_A, b_A, c_A, d_A), 'k-')\n",
    "plt.xlabel('The coordinate of x_k')\n",
    "plt.ylabel('The coordinate of y_k')\n",
    "plt.legend([ \"Annealing method\",\"Generated data\"], loc =\"upper left\")"
   ]
  },
  {
   "cell_type": "code",
   "execution_count": null,
   "id": "cf4ad140",
   "metadata": {},
   "outputs": [],
   "source": [
    "plt.scatter(x, y)\n",
    "plt.plot(x, F(x, a_A, b_A, c_A, d_A), 'k-')\n",
    "plt.plot(x, F(x, a_E, b_E, c_E, d_E), 'y-')\n",
    "plt.plot(x, F(x, a_N, b_N, c_N, d_N), 'r-')\n",
    "plt.plot(x, F(x, a_M, b_M, c_M, d_M), 'g-')\n",
    "plt.xlabel('The coordinate of x_k')\n",
    "plt.ylabel('The coordinate of y_k')\n",
    "plt.legend([ \"Annealing method\",\"Differential evolution method\",\"Nelder-Mead method\",\"Levenberg-Marquardt method\",\"Generated data\"], loc =\"upper left\")"
   ]
  },
  {
   "cell_type": "code",
   "execution_count": null,
   "id": "660a23e1",
   "metadata": {},
   "outputs": [],
   "source": [
    "import pandas as pd"
   ]
  },
  {
   "cell_type": "code",
   "execution_count": null,
   "id": "3bd33b09",
   "metadata": {},
   "outputs": [],
   "source": [
    "lau_matrix = np.matrix('0.549963E-07  0.985808E-08;-28.8733 -0.797739E-07;-79.2916 -21.4033;-14.6577 -43.3896;-64.7473 21.8982;-29.0585 -43.2167;-72.0785 0.181581;-36.0366 -21.6135;-50.4808 7.37447;-50.5859 -21.5882;-0.135819 -28.7293;-65.0866 -36.0625;-21.4983 7.31942;-57.5687 -43.2506;-43.0700  14.5548')\n",
    "nodes = np.array(lau_matrix)"
   ]
  },
  {
   "cell_type": "code",
   "execution_count": null,
   "id": "61ae71a7",
   "metadata": {},
   "outputs": [],
   "source": [
    "def vectorToDistMatrix(coords):\n",
    "    return np.sqrt((np.square(coords[:, np.newaxis] - coords).sum(axis=2)))\n",
    "\n",
    "\n",
    "def nearestNeighbourSolution(dist_matrix):\n",
    "    node = random.randrange(len(dist_matrix))\n",
    "    result = [node]\n",
    "\n",
    "    nodes_to_visit = list(range(len(dist_matrix)))\n",
    "    nodes_to_visit.remove(node)\n",
    "\n",
    "    while nodes_to_visit:\n",
    "        nearest_node = min([(dist_matrix[node][j], j) for j in nodes_to_visit], key=lambda x: x[0])\n",
    "        node = nearest_node[1]\n",
    "        nodes_to_visit.remove(node)\n",
    "        result.append(node)\n",
    "\n",
    "    return result\n"
   ]
  },
  {
   "cell_type": "code",
   "execution_count": 2,
   "id": "80c9b362",
   "metadata": {},
   "outputs": [],
   "source": [
    "from matplotlib.animation import FuncAnimation\n",
    "import numpy as np\n",
    "import matplotlib.pyplot as plt\n",
    "\n",
    "\n",
    "def animateTSP(history, points):\n",
    "    ''' animate the solution over time\n",
    "        Parameters\n",
    "        ----------\n",
    "        hisotry : list\n",
    "            history of the solutions chosen by the algorith\n",
    "        points: array_like\n",
    "            points with the coordinates\n",
    "    '''\n",
    "\n",
    "    ''' approx 1500 frames for animation '''\n",
    "    key_frames_mult = len(history) // 1500\n",
    "\n",
    "    fig, ax = plt.subplots()\n",
    "\n",
    "    ''' path is a line coming through all the nodes '''\n",
    "    line, = plt.plot([], [], lw=2)\n",
    "\n",
    "    def init():\n",
    "        ''' initialize node dots on graph '''\n",
    "        x = [points[i][0] for i in history[0]]\n",
    "        y = [points[i][1] for i in history[0]]\n",
    "        plt.plot(x, y, 'co')\n",
    "\n",
    "        ''' draw axes slighty bigger  '''\n",
    "        extra_x = (max(x) - min(x)) * 0.05\n",
    "        extra_y = (max(y) - min(y)) * 0.05\n",
    "        ax.set_xlim(min(x) - extra_x, max(x) + extra_x)\n",
    "        ax.set_ylim(min(y) - extra_y, max(y) + extra_y)\n",
    "\n",
    "        '''initialize solution to be empty '''\n",
    "        line.set_data([], [])\n",
    "        return line,\n",
    "\n",
    "    def update(frame):\n",
    "        ''' for every frame update the solution on the graph '''\n",
    "        x = [points[i, 0] for i in history[frame] + [history[frame][0]]]\n",
    "        y = [points[i, 1] for i in history[frame] + [history[frame][0]]]\n",
    "        line.set_data(x, y)\n",
    "        return line\n",
    "\n",
    "    ''' animate precalulated solutions '''"
   ]
  },
  {
   "cell_type": "code",
   "execution_count": 3,
   "id": "a26657f3",
   "metadata": {},
   "outputs": [],
   "source": [
    "class SimulatedAnnealing:\n",
    "    def __init__(self, coords, temp, alpha, stopping_temp, stopping_iter,curr_solution):\n",
    "        self.coords = coords\n",
    "        self.sample_size = len(coords)\n",
    "        self.temp = temp\n",
    "        self.alpha = alpha\n",
    "        self.stopping_temp = stopping_temp\n",
    "        self.stopping_iter = stopping_iter\n",
    "        self.iteration = 1\n",
    "\n",
    "        self.dist_matrix = vectorToDistMatrix(coords)\n",
    "        self.curr_solution = curr_solution\n",
    "        self.best_solution = self.curr_solution\n",
    "\n",
    "        self.solution_history = [self.curr_solution]\n",
    "\n",
    "        self.curr_weight = self.weight(self.curr_solution)\n",
    "        self.initial_weight = self.curr_weight\n",
    "        self.min_weight = self.curr_weight\n",
    "\n",
    "        self.weight_list = [self.curr_weight]\n",
    "\n",
    "        print('Intial weight: ', self.curr_weight)\n",
    "\n",
    "    def weight(self, sol):\n",
    "        return sum([self.dist_matrix[i, j] for i, j in zip(sol, sol[1:] + [sol[0]])])\n",
    "\n",
    "    def acceptance_probability(self, candidate_weight):\n",
    "        return math.exp(-abs(candidate_weight - self.curr_weight) / self.temp)\n",
    "\n",
    "    def accept(self, candidate):\n",
    "        candidate_weight = self.weight(candidate)\n",
    "        if candidate_weight < self.curr_weight:\n",
    "            self.curr_weight = candidate_weight\n",
    "            self.curr_solution = candidate\n",
    "            if candidate_weight < self.min_weight:\n",
    "                self.min_weight = candidate_weight\n",
    "                self.best_solution = candidate\n",
    "\n",
    "        else:\n",
    "            if random.random() < self.acceptance_probability(candidate_weight):\n",
    "                self.curr_weight = candidate_weight\n",
    "                self.curr_solution = candidate\n",
    "\n",
    "    def anneal(self):\n",
    "        while self.temp >= self.stopping_temp and self.iteration < self.stopping_iter:\n",
    "            candidate = list(self.curr_solution)\n",
    "            l = random.randint(2, self.sample_size - 1)\n",
    "            i = random.randint(0, self.sample_size - l)\n",
    "\n",
    "            candidate[i: (i + l)] = reversed(candidate[i: (i + l)])\n",
    "\n",
    "            self.accept(candidate)\n",
    "            self.temp *= self.alpha\n",
    "            self.iteration += 1\n",
    "            self.weight_list.append(self.curr_weight)\n",
    "            self.solution_history.append(self.curr_solution)\n",
    "\n",
    "        print('Minimum weight: ', self.min_weight)\n",
    "        print('Improvement: ',\n",
    "              round((self.initial_weight - self.min_weight) / (self.initial_weight), 4) * 100, '%')\n",
    "\n",
    "    def get_solution(self):\n",
    "        return self.solution_history[-1] ,self.coords \n",
    "\n",
    "    def plotLearning(self):\n",
    "        plt.plot([i for i in range(len(self.weight_list))], self.weight_list)\n",
    "        line_init = plt.axhline(y=self.initial_weight, color='r', linestyle='--')\n",
    "        line_min = plt.axhline(y=self.min_weight, color='g', linestyle='--')\n",
    "        plt.legend([line_init, line_min], ['Initial weight', 'Optimized weight'])\n",
    "        plt.ylabel('Weight')\n",
    "        plt.xlabel('Iteration')\n",
    "        plt.show()\n"
   ]
  },
  {
   "cell_type": "code",
   "execution_count": 4,
   "id": "179acaba",
   "metadata": {},
   "outputs": [],
   "source": [
    "temp = 1000\n",
    "stopping_temp = 0.0000001\n",
    "alpha = 0.97\n",
    "stopping_iter = 1000\n",
    "init_solution = [i for i in range(15)]"
   ]
  },
  {
   "cell_type": "code",
   "execution_count": 5,
   "id": "e8a5547b",
   "metadata": {},
   "outputs": [],
   "source": [
    "import numpy as np\n",
    "import random\n",
    "random.seed(9999)\n",
    "np.random.seed(9999)\n",
    "import math"
   ]
  },
  {
   "cell_type": "code",
   "execution_count": 6,
   "id": "6b852ecf",
   "metadata": {},
   "outputs": [
    {
     "ename": "NameError",
     "evalue": "name 'nodes' is not defined",
     "output_type": "error",
     "traceback": [
      "\u001b[1;31m---------------------------------------------------------------------------\u001b[0m",
      "\u001b[1;31mNameError\u001b[0m                                 Traceback (most recent call last)",
      "\u001b[1;32mC:\\Users\\E8E5~1\\AppData\\Local\\Temp/ipykernel_2448/660334001.py\u001b[0m in \u001b[0;36m<module>\u001b[1;34m\u001b[0m\n\u001b[1;32m----> 1\u001b[1;33m \u001b[0msa\u001b[0m \u001b[1;33m=\u001b[0m \u001b[0mSimulatedAnnealing\u001b[0m\u001b[1;33m(\u001b[0m\u001b[0mnodes\u001b[0m\u001b[1;33m,\u001b[0m \u001b[0mtemp\u001b[0m\u001b[1;33m,\u001b[0m \u001b[0malpha\u001b[0m\u001b[1;33m,\u001b[0m \u001b[0mstopping_temp\u001b[0m\u001b[1;33m,\u001b[0m \u001b[0mstopping_iter\u001b[0m\u001b[1;33m,\u001b[0m\u001b[0minit_solution\u001b[0m\u001b[1;33m)\u001b[0m\u001b[1;33m\u001b[0m\u001b[1;33m\u001b[0m\u001b[0m\n\u001b[0m\u001b[0;32m      2\u001b[0m \u001b[0msa\u001b[0m\u001b[1;33m.\u001b[0m\u001b[0manneal\u001b[0m\u001b[1;33m(\u001b[0m\u001b[1;33m)\u001b[0m\u001b[1;33m\u001b[0m\u001b[1;33m\u001b[0m\u001b[0m\n",
      "\u001b[1;31mNameError\u001b[0m: name 'nodes' is not defined"
     ]
    }
   ],
   "source": [
    "sa = SimulatedAnnealing(nodes, temp, alpha, stopping_temp, stopping_iter,init_solution)\n",
    "sa.anneal()"
   ]
  },
  {
   "cell_type": "code",
   "execution_count": 7,
   "id": "36ff7ee9",
   "metadata": {},
   "outputs": [
    {
     "ename": "NameError",
     "evalue": "name 'sa' is not defined",
     "output_type": "error",
     "traceback": [
      "\u001b[1;31m---------------------------------------------------------------------------\u001b[0m",
      "\u001b[1;31mNameError\u001b[0m                                 Traceback (most recent call last)",
      "\u001b[1;32mC:\\Users\\E8E5~1\\AppData\\Local\\Temp/ipykernel_2448/3080399831.py\u001b[0m in \u001b[0;36m<module>\u001b[1;34m\u001b[0m\n\u001b[1;32m----> 1\u001b[1;33m \u001b[0mnodes\u001b[0m\u001b[1;33m,\u001b[0m\u001b[0mpositions\u001b[0m\u001b[1;33m=\u001b[0m\u001b[0msa\u001b[0m\u001b[1;33m.\u001b[0m\u001b[0mget_solution\u001b[0m\u001b[1;33m(\u001b[0m\u001b[1;33m)\u001b[0m\u001b[1;33m\u001b[0m\u001b[1;33m\u001b[0m\u001b[0m\n\u001b[0m\u001b[0;32m      2\u001b[0m \u001b[1;32mimport\u001b[0m \u001b[0mmatplotlib\u001b[0m\u001b[1;33m.\u001b[0m\u001b[0mpyplot\u001b[0m \u001b[1;32mas\u001b[0m \u001b[0mplt\u001b[0m\u001b[1;33m\u001b[0m\u001b[1;33m\u001b[0m\u001b[0m\n\u001b[0;32m      3\u001b[0m \u001b[0mplt\u001b[0m\u001b[1;33m.\u001b[0m\u001b[0mrcParams\u001b[0m\u001b[1;33m[\u001b[0m\u001b[1;34m\"figure.figsize\"\u001b[0m\u001b[1;33m]\u001b[0m \u001b[1;33m=\u001b[0m \u001b[1;33m(\u001b[0m\u001b[1;36m20\u001b[0m\u001b[1;33m,\u001b[0m\u001b[1;36m15\u001b[0m\u001b[1;33m)\u001b[0m\u001b[1;33m\u001b[0m\u001b[1;33m\u001b[0m\u001b[0m\n\u001b[0;32m      4\u001b[0m \u001b[1;33m\u001b[0m\u001b[0m\n\u001b[0;32m      5\u001b[0m \u001b[0mfig\u001b[0m\u001b[1;33m,\u001b[0m \u001b[0max\u001b[0m \u001b[1;33m=\u001b[0m \u001b[0mplt\u001b[0m\u001b[1;33m.\u001b[0m\u001b[0msubplots\u001b[0m\u001b[1;33m(\u001b[0m\u001b[1;36m2\u001b[0m\u001b[1;33m,\u001b[0m \u001b[0msharex\u001b[0m\u001b[1;33m=\u001b[0m\u001b[1;32mTrue\u001b[0m\u001b[1;33m,\u001b[0m \u001b[0msharey\u001b[0m\u001b[1;33m=\u001b[0m\u001b[1;32mTrue\u001b[0m\u001b[1;33m)\u001b[0m         \u001b[1;31m# Prepare 2 plots\u001b[0m\u001b[1;33m\u001b[0m\u001b[1;33m\u001b[0m\u001b[0m\n",
      "\u001b[1;31mNameError\u001b[0m: name 'sa' is not defined"
     ]
    }
   ],
   "source": [
    "nodes,positions=sa.get_solution()\n",
    "import matplotlib.pyplot as plt\n",
    "plt.rcParams[\"figure.figsize\"] = (20,15)\n",
    "\n",
    "fig, ax = plt.subplots(2, sharex=True, sharey=True)         # Prepare 2 plots\n",
    "ax[0].set_title('Raw nodes')\n",
    "ax[1].set_title('Optimized tour')\n",
    "ax[0].scatter(positions[:, 0], positions[:, 1])             # plot A\n",
    "ax[1].scatter(positions[:, 0], positions[:, 1])             # plot B\n",
    "start_node = 0\n",
    "distance = 0.\n",
    "for i in range(1,15):\n",
    "    start_pos = positions[nodes[i-1]]\n",
    "    end_pos = positions[nodes[i]]\n",
    "    ax[1].annotate(\"\",\n",
    "            xy=start_pos, xycoords='data',\n",
    "            xytext=end_pos, textcoords='data',\n",
    "            arrowprops=dict(arrowstyle=\"->\",\n",
    "                            connectionstyle=\"arc3\"))\n",
    "    distance += np.linalg.norm(end_pos - start_pos)\n",
    "    start_node = init_solution[i]\n",
    "print(distance)\n",
    "textstr = \"Nodes count: %d\\nTotal length: %.3f\" % (15, distance)\n",
    "props = dict(boxstyle='round', facecolor='wheat', alpha=0.5)\n",
    "ax[1].text(0.05, 0.95, textstr, transform=ax[1].transAxes, fontsize=14, # Textbox\n",
    "        verticalalignment='top', bbox=props)\n",
    "\n",
    "plt.tight_layout()\n",
    "plt.show()"
   ]
  },
  {
   "cell_type": "code",
   "execution_count": 8,
   "id": "01927123",
   "metadata": {},
   "outputs": [
    {
     "ename": "NameError",
     "evalue": "name 'sa' is not defined",
     "output_type": "error",
     "traceback": [
      "\u001b[1;31m---------------------------------------------------------------------------\u001b[0m",
      "\u001b[1;31mNameError\u001b[0m                                 Traceback (most recent call last)",
      "\u001b[1;32mC:\\Users\\E8E5~1\\AppData\\Local\\Temp/ipykernel_2448/1946422658.py\u001b[0m in \u001b[0;36m<module>\u001b[1;34m\u001b[0m\n\u001b[1;32m----> 1\u001b[1;33m \u001b[0msa\u001b[0m\u001b[1;33m.\u001b[0m\u001b[0mplotLearning\u001b[0m\u001b[1;33m(\u001b[0m\u001b[1;33m)\u001b[0m\u001b[1;33m\u001b[0m\u001b[1;33m\u001b[0m\u001b[0m\n\u001b[0m",
      "\u001b[1;31mNameError\u001b[0m: name 'sa' is not defined"
     ]
    }
   ],
   "source": [
    "sa.plotLearning()"
   ]
  },
  {
   "cell_type": "code",
   "execution_count": null,
   "id": "4fd060d7",
   "metadata": {},
   "outputs": [],
   "source": []
  },
  {
   "cell_type": "code",
   "execution_count": null,
   "id": "77039714",
   "metadata": {},
   "outputs": [],
   "source": []
  }
 ],
 "metadata": {
  "kernelspec": {
   "display_name": "Python 3 (ipykernel)",
   "language": "python",
   "name": "python3"
  },
  "language_info": {
   "codemirror_mode": {
    "name": "ipython",
    "version": 3
   },
   "file_extension": ".py",
   "mimetype": "text/x-python",
   "name": "python",
   "nbconvert_exporter": "python",
   "pygments_lexer": "ipython3",
   "version": "3.8.12"
  }
 },
 "nbformat": 4,
 "nbformat_minor": 5
}
